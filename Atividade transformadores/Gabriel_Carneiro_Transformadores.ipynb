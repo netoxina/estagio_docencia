{
  "nbformat": 4,
  "nbformat_minor": 0,
  "metadata": {
    "colab": {
      "name": "Atividade 1.3 - Transformadores.ipynb",
      "provenance": [],
      "collapsed_sections": []
    },
    "kernelspec": {
      "name": "python3",
      "display_name": "Python 3"
    }
  },
  "cells": [
    {
      "cell_type": "markdown",
      "metadata": {
        "id": "UCRedUHd0-vd"
      },
      "source": [
        "**Aluno:** Gabriel Oliveira Senra Carneiro\r\n",
        "\r\n",
        "**Questão 1**"
      ]
    },
    {
      "cell_type": "code",
      "metadata": {
        "colab": {
          "base_uri": "https://localhost:8080/"
        },
        "id": "nhc25co608Hq",
        "outputId": "8df65d49-bbd6-4fd8-f1f2-6625cf1f020f"
      },
      "source": [
        "#Dados da Questão:\r\n",
        "Rf = 512            #Ohm\r\n",
        "Vg = 120            #V\r\n",
        "Raf = 8             #Ohm\r\n",
        "Np = 8\r\n",
        "Ns = 1\r\n",
        "a = Np / Ns\r\n",
        "Zc = 8              #Ohm\r\n",
        "\r\n",
        "#a): Inicialmente, calculamos a corrente da fonte:\r\n",
        "Rt = Rf + Raf       #Ohm\r\n",
        "If = Vg / Rt        #A\r\n",
        "print('Corrente da Fonte para fig (a) =', If)\r\n",
        "\r\n",
        "#Assim, para calcular a potência fornecida ao alto-falante, temos que:\r\n",
        "Paf1 = (If**2) * Raf #W\r\n",
        "print('a) Pot fornecida a carga =', Paf1)\r\n",
        "\r\n",
        "#b): Inicialmente, calculamos a impedancia interna da fonte:\r\n",
        "Zp = a**2 * Zc      #Ohm\r\n",
        "\r\n",
        "#Assim, foi estabelecida as condições para a máxima transferência de potência. Logo, a corrente da fonte é:\r\n",
        "Is = Vg / (Rf + Zp) #A\r\n",
        "print('Corrente da Fonte para fig (b) =', Is)\r\n",
        "\r\n",
        "#Do mesmo modo, para calcular a potência fornecida ao alto-falante:\r\n",
        "Paf2 = (Is**2) * Zp #W\r\n",
        "print('b) Pot fornecida ao Alto-falante =', Paf2)\r\n",
        "\r\n",
        "#c): Comparando as potências:\r\n",
        "x = Paf2 / Paf1     #W\r\n",
        "print('c)', x)\r\n",
        "#Logo, quando utilizamos o transformador, a potência é cerca de 16 vezes maior que quando não utilizamos."
      ],
      "execution_count": null,
      "outputs": [
        {
          "output_type": "stream",
          "text": [
            "Corrente da Fonte para fig (a) = 0.23076923076923078\n",
            "a) Pot fornecida a carga = 0.42603550295857995\n",
            "Corrente da Fonte para fig (b) = 0.1171875\n",
            "b) Pot fornecida ao Alto-falante = 7.03125\n",
            "c) 16.503906249999996\n"
          ],
          "name": "stdout"
        }
      ]
    },
    {
      "cell_type": "markdown",
      "metadata": {
        "id": "q8xcITh42E5d"
      },
      "source": [
        "**Questão 2**"
      ]
    },
    {
      "cell_type": "code",
      "metadata": {
        "colab": {
          "base_uri": "https://localhost:8080/"
        },
        "id": "5Ei9AtnS2FNF",
        "outputId": "6fac60cb-ed10-4c74-a4b6-d200713fd97e"
      },
      "source": [
        "from math import sqrt\r\n",
        "\r\n",
        "#Dados da Questão:\r\n",
        "Vp = 70.7               #V\r\n",
        "Pp = 10                 #W\r\n",
        "Zc = 8                  #Ohm\r\n",
        "\r\n",
        "#a): Considerando que não há perdas, a potência nos primários é a mesma que a nos secundários e, assim, a potência fornecida pela fonte é:\r\n",
        "Pid = 4*Pp              #W\r\n",
        "print('a) Potência em condições ideais =', Pid)\r\n",
        "\r\n",
        "#b): Inicialmente, calculamos a corrente primária:\r\n",
        "Ip = Pp / Vp            #A\r\n",
        "\r\n",
        "#Assim, a impedância de entrada nos transformadores equivale a:\r\n",
        "Zp = Vp / Ip            #Ohm\r\n",
        "print('b) Impedância de entrada =', Zp)\r\n",
        "\r\n",
        "#c): Relação de espiras \"a\":\r\n",
        "a = sqrt(Zp / Zc)\r\n",
        "print('c) a =', a, '. Assim, a relação é 8:1')\r\n",
        "\r\n",
        "#d): A tensão aplicada aos alto-falantes:\r\n",
        "Vs = Vc = Vp / a        #V\r\n",
        "print('d) Tensão =', Vs)\r\n",
        "\r\n",
        "#e): Como todos os alto-falantes estão em paralelo, temos que:\r\n",
        "Rt1 = Zp\r\n",
        "Rt2 = Zp / 2\r\n",
        "Rt3 = Zp / 3\r\n",
        "Rt4 = Zp / 4\r\n",
        "print('d) Para 1 alto-falante =', Rt1,'/ Para 2 alto-falantes =', Rt2,'/ Para 3 alto-falantes =', Rt3,'/ Para 4 alto-falantes =', Rt4)"
      ],
      "execution_count": null,
      "outputs": [
        {
          "output_type": "stream",
          "text": [
            "a) Potência em condições ideais = 40\n",
            "b) Impedância de entrada = 499.84900000000005\n",
            "c) a = 7.904500300461757 . Assim, a relação é 8:1\n",
            "d) Tensão = 8.944271909999157\n",
            "d) Para 1 alto-falante = 499.84900000000005 / Para 2 alto-falantes = 249.92450000000002 / Para 3 alto-falantes = 166.61633333333336 / Para 4 alto-falantes = 124.96225000000001\n"
          ],
          "name": "stdout"
        }
      ]
    },
    {
      "cell_type": "markdown",
      "metadata": {
        "id": "YC0vWy6s2Fih"
      },
      "source": [
        "**Questão 3**"
      ]
    },
    {
      "cell_type": "code",
      "metadata": {
        "colab": {
          "base_uri": "https://localhost:8080/"
        },
        "id": "DuMCisPX2Fsc",
        "outputId": "431fb5b6-48ce-423f-a1dd-c859adb7a01e"
      },
      "source": [
        "#Dados da Questão:\r\n",
        "Np = 1\r\n",
        "Ns = 5\r\n",
        "a = Np / Ns\r\n",
        "Ip = 2                      #A\r\n",
        "Zc = 2                      #Ohm\r\n",
        "\r\n",
        "#a): Para calcular a corrente secundária, utilizamos a relação das espiras: Ip/Is = Ns / Np. Assim,\r\n",
        "Ic = (Np / Ns) * Ip         #A\r\n",
        "\r\n",
        "#Encontrado Ic, achamos a tensão Vc da maneira:\r\n",
        "Vc = Ic * Zc                #V\r\n",
        "print('a) Ic =', Ic, '/ Vc =', Vc)\r\n",
        "\r\n",
        "#b): Calculando a resistência de entrada para os dados especificados, obtemos:\r\n",
        "Zp = a**2 * Zc              #Ohm\r\n",
        "print('b) Zp =', Zp)"
      ],
      "execution_count": null,
      "outputs": [
        {
          "output_type": "stream",
          "text": [
            "a) Ic = 0.4 / Vc = 0.8\n",
            "b) Zp = 0.08000000000000002\n"
          ],
          "name": "stdout"
        }
      ]
    },
    {
      "cell_type": "markdown",
      "metadata": {
        "id": "k6lddbwY2Fzh"
      },
      "source": [
        "**Questão 4**"
      ]
    },
    {
      "cell_type": "code",
      "metadata": {
        "colab": {
          "base_uri": "https://localhost:8080/"
        },
        "id": "ZLMYdmEX2F6K",
        "outputId": "7b3d1709-e095-470d-fdf6-9030d50227a8"
      },
      "source": [
        "from numpy import angle, complex, degrees\r\n",
        "from math import cos, sin, acos, pi\r\n",
        "\r\n",
        "#Dados da Questão:\r\n",
        "a = 4800/240\r\n",
        "s = 10000\r\n",
        "Inom = s/4800\r\n",
        "FP = 1\r\n",
        "\r\n",
        "#Ensaio de Curto-circuito:\r\n",
        "pot1 = 180              #W\r\n",
        "v1 = 180                #V\r\n",
        "\r\n",
        "#Ensaio à Vazio:\r\n",
        "pot2 = 60               #W\r\n",
        "v2 = 240                #V\r\n",
        "I2 = 1.5                #A\r\n",
        "\r\n",
        "#a) Para o circuito equivalente primário, temos que:\r\n",
        "Z1 = v1 / Inom\r\n",
        "angulo1 = acos(pot1/(v1*Inom))\r\n",
        "Zp = complex(Z1*cos(angulo1), Z1*sin(angulo1))\r\n",
        "ZP = abs(Zp)\r\n",
        "Req = Zp.real / a**2\r\n",
        "Xeq = Zp.imag / a**2\r\n",
        "print('O circuito equivalente primário é constituido por: Zp =', ZP, ', Rc =', Zp.real, ', Xp =', Zp.imag, ', Req =', Req, 'e Xeq =', Xeq)\r\n",
        "\r\n",
        "#Para o circuito equivalente secundário:\r\n",
        "Yex2 = I2 / v2\r\n",
        "angulo2 = acos(pot2 / (v2*I2))\r\n",
        "Yex = complex(Yex2*cos(angulo2), -Yex2*sin(angulo2))\r\n",
        "YEx = abs(Yex)\r\n",
        "RC = 1/Yex.real\r\n",
        "Xm = 1/(-Yex.imag)\r\n",
        "print('O circuito equivalente secundário é constituido por: Yex2 =', YEx, ', RC =', RC, 'e XM =', Xm)\r\n",
        "\r\n",
        "#b)\r\n",
        "Ic = s / v2\r\n",
        "angc1 = acos(FP)                #rad\r\n",
        "angc = -(acos(FP)*180)/pi      #graus\r\n",
        "angc2 = ((angc+90)*pi)/180  #rad\r\n",
        "Ic1 = complex(Ic*cos(-angc1), Ic*sin(-angc1))\r\n",
        "Ic2 = complex(Ic*cos(angc2), Ic*sin(angc2))\r\n",
        "Va = v2 + Req*Ic1 + Xeq*Ic2\r\n",
        "RT = (abs(Va) - v2)/v2\r\n",
        "print('A regulação de tensão corresponde a (%):', RT*100)"
      ],
      "execution_count": null,
      "outputs": [
        {
          "output_type": "stream",
          "text": [
            "O circuito equivalente primário é constituido por: Zp = 86.39999999999999 , Rc = 41.472 , Xp = 75.79599736133828 , Req = 0.10368000000000001 e Xeq = 0.1894899934033457\n",
            "O circuito equivalente secundário é constituido por: Yex2 = 0.00625 , RC = 959.9999999999998 e XM = 162.26961690787516\n",
            "A regulação de tensão corresponde a (%): 1.8531418268479292\n"
          ],
          "name": "stdout"
        }
      ]
    },
    {
      "cell_type": "markdown",
      "metadata": {
        "id": "xkpAdwy52GFV"
      },
      "source": [
        "**Questão 5**"
      ]
    },
    {
      "cell_type": "code",
      "metadata": {
        "colab": {
          "base_uri": "https://localhost:8080/"
        },
        "id": "VgsMZGD02GMJ",
        "outputId": "e6e17b71-f0c0-48ca-9f14-fa0dfe6f9e09"
      },
      "source": [
        "from numpy import angle, complex, degrees\r\n",
        "from math import cos, sin, acos, pi\r\n",
        "\r\n",
        "#Dados da Questão:\r\n",
        "a = 12000/240\r\n",
        "s = 100000\r\n",
        "Inom = s/12000\r\n",
        "FP = 0.8\r\n",
        "\r\n",
        "#Ensaio de Curto-circuito:\r\n",
        "pot1 = 1200              #W\r\n",
        "v1 = 600                 #V\r\n",
        "\r\n",
        "#Ensaio à Vazio:\r\n",
        "pot2 = 480               #W\r\n",
        "v2 = 240                 #V\r\n",
        "I2 = 8.75                #A\r\n",
        "\r\n",
        "#Para o circuito equivalente primário, temos que:\r\n",
        "Z1 = v1 / Inom\r\n",
        "angulo1 = acos(pot1/(v1*Inom))\r\n",
        "Zp = complex(Z1*cos(angulo1), Z1*sin(angulo1))\r\n",
        "ZP = abs(Zp)\r\n",
        "Req = Zp.real / a**2\r\n",
        "Xeq = Zp.imag / a**2\r\n",
        "print('O circuito equivalente primário é constituido por: Zp =', ZP, ', Rc =', Zp.real, ', Xp =', Zp.imag, ', Req =', Req, 'e Xeq =', Xeq)\r\n",
        "\r\n",
        "#Para o circuito equivalente secundário:\r\n",
        "Yex2 = I2 / v2\r\n",
        "angulo2 = acos(pot2 / (v2*I2))\r\n",
        "Yex = complex(Yex2*cos(angulo2), -Yex2*sin(angulo2))\r\n",
        "YEx = abs(Yex)\r\n",
        "RC = 1/Yex.real\r\n",
        "Xm = 1/(-Yex.imag)\r\n",
        "print('O circuito equivalente secundário é constituido por: Yex2 =', YEx, ', RC =', RC, 'e XM =', Xm)\r\n",
        "\r\n",
        "Ic = s / v2\r\n",
        "angc1 = acos(FP)                #rad\r\n",
        "angc = -(acos(FP)*180)/pi       #graus\r\n",
        "angc2 = ((angc+90)*pi)/180      #rad\r\n",
        "Ic1 = complex(Ic*cos(-angc1), Ic*sin(-angc1))\r\n",
        "Ic2 = complex(Ic*cos(angc2), Ic*sin(angc2))\r\n",
        "Va = v2 + Req*Ic1 + Xeq*Ic2\r\n",
        "RT = (abs(Va) - v2)/v2\r\n",
        "print('A regulação de tensão corresponde a (%):', RT*100)"
      ],
      "execution_count": null,
      "outputs": [
        {
          "output_type": "stream",
          "text": [
            "O circuito equivalente primário é constituido por: Zp = 72.0 , Rc = 17.280000000000005 , Xp = 69.8956479331868 , Req = 0.0069120000000000015 e Xeq = 0.027958259173274717\n",
            "O circuito equivalente secundário é constituido por: Yex2 = 0.03645833333333333 , RC = 120.0 e XM = 28.174429002419963\n",
            "A regulação de tensão corresponde a (%): 3.920468305221559\n"
          ],
          "name": "stdout"
        }
      ]
    },
    {
      "cell_type": "markdown",
      "metadata": {
        "id": "_ClX9z2-2f8N"
      },
      "source": [
        "**Questão 6**"
      ]
    },
    {
      "cell_type": "code",
      "metadata": {
        "colab": {
          "base_uri": "https://localhost:8080/"
        },
        "id": "pL66A3mx2jc6",
        "outputId": "6dee63e4-aa25-4982-f0e9-e0a4304ea3c9"
      },
      "source": [
        "from numpy import complex\r\n",
        "from math import sqrt\r\n",
        "\r\n",
        "#Dados da Questão:\r\n",
        "v1 = 240                #Baixa tensão (V)\r\n",
        "v2 = 2400               #Alta tensão  (V)\r\n",
        "Poc = 254               #W\r\n",
        "FP = 0.15\r\n",
        "\r\n",
        "#A partir da potência ativa temos que:\r\n",
        "Rc = (v1**2) / Poc\r\n",
        "Soc = Poc / FP\r\n",
        "#Para a potência reativa:\r\n",
        "Qoc = sqrt(Soc**2 - Poc**2)\r\n",
        "Xm = (v1**2) / Qoc\r\n",
        "\r\n",
        "#Assim, obtemos a impedância total para o lado de baixa tensão:\r\n",
        "Zoc = ((1/Rc) - (1/complex(0, Xm)))**(-1)\r\n",
        "\r\n",
        "#Sabendo que P1 = P2 -> V1²/Z1 = V2²/Z2 -> V1²/Z1 = a²V1²/Z2 -> Z1 = Z2/a² ou Z2 = Z1/a². Desse modo, para a questão, temos que:\r\n",
        "a = v2 / v1\r\n",
        "Zocs = Zoc * (a**2)\r\n",
        "\r\n",
        "#Portanto, a corrente fornecida é:\r\n",
        "Iocs = v2 / Zocs\r\n",
        "print('Corrente fornecida é: Iocs =', Iocs)"
      ],
      "execution_count": null,
      "outputs": [
        {
          "output_type": "stream",
          "text": [
            "Corrente fornecida é: Iocs = (0.10583333333333332+0.6975728976464499j)\n"
          ],
          "name": "stdout"
        }
      ]
    },
    {
      "cell_type": "markdown",
      "metadata": {
        "id": "MBOVSrT_2jwU"
      },
      "source": [
        "**Questão 7**"
      ]
    },
    {
      "cell_type": "code",
      "metadata": {
        "colab": {
          "base_uri": "https://localhost:8080/"
        },
        "id": "kU3MMMny2j30",
        "outputId": "ac680686-3e36-4f55-d1b9-ee1befb83bfd"
      },
      "source": [
        "from math import acos, sin, cos, pi\r\n",
        "\r\n",
        "#Dados da Questão:\r\n",
        "s = 250000\r\n",
        "a = 24200/220\r\n",
        "FP = 0.92\r\n",
        "\r\n",
        "#Ensaio de Curto-Circuito:\r\n",
        "pot1 = 1700                 #W\r\n",
        "v1 = 600                    #V\r\n",
        "I1 = Inom = s/24200 * 0.85  #A (85% da carga)\r\n",
        "\r\n",
        "#Ensaio a Vazio:\r\n",
        "pot2 = 1200                 #W\r\n",
        "I2 = 16                     #A\r\n",
        "v2 = vnom = 220 * 0.85      #V (85% da carga)\r\n",
        "\r\n",
        "#a) Para o circuito equivalente primário (lado de alta tensão - Curto-Circuito) temos:\r\n",
        "Z1 = v1 / Inom              #Parte absoluta\r\n",
        "angulo1 = acos(pot1/(v1*Inom))\r\n",
        "Zp = complex(Z1*cos(angulo1), Z1*sin(angulo1))\r\n",
        "ZP = abs(Zp)\r\n",
        "Req = Zp.real/a**2\r\n",
        "Xeq = Zp.imag/a**2\r\n",
        "print('a) O circuito equivalente primário é constituido por: Zp =', ZP, ', Rc =', Zp.real, ', Xp =', Zp.imag, ', Req =', Req, 'e Xeq =', Xeq)\r\n",
        "\r\n",
        "#para o circuito equivalente secundário (lado de baixa tensão - a Vazio), temos que:\r\n",
        "Yex2 = I2 / v2              #Parte absoluta\r\n",
        "angulo2 = acos(pot2/(v2*I2))\r\n",
        "Yex = complex(Yex2*cos(angulo2), -Yex2*sin(angulo2))\r\n",
        "Rc2 = 1/Yex.real\r\n",
        "Xm2 = 1/-Yex.imag\r\n",
        "print('O circuito equivalente secundário é constituido por: Yex =', Yex, ', Rc =', Rc2, 'e Xm =', Xm2)\r\n",
        "\r\n",
        "#b)\r\n",
        "Ic = s / v2\r\n",
        "angc1 = acos(FP) #rad\r\n",
        "angc = -(acos(FP)*180)/pi #graus\r\n",
        "angc2 = ((angc+90)*pi)/180 #rad\r\n",
        "Ic1 = complex(Ic*cos(-angc1), Ic*sin(-angc1))\r\n",
        "Ic2 = complex(Ic*cos(angc2), Ic*sin(angc2))\r\n",
        "VA = v2 + Req*Ic1+ Xeq*Ic2\r\n",
        "RT = (abs(VA) - v2) / v2\r\n",
        "print('b) A regulação de tensão é: RT =', RT)"
      ],
      "execution_count": null,
      "outputs": [
        {
          "output_type": "stream",
          "text": [
            "a) O circuito equivalente primário é constituido por: Zp = 68.32941176470588 , Rc = 22.047623529411773 , Xp = 64.67465352683426 , Req = 0.001822117647058824 e Xeq = 0.005345012688168121\n",
            "O circuito equivalente secundário é constituido por: Yex = (0.03431610855329006-0.07837840594488185j) , Rc = 29.140833333333333 e Xm = 12.758616202315103\n",
            "b) A regulação de tensão é: RT = 0.0274002714437874\n"
          ],
          "name": "stdout"
        }
      ]
    },
    {
      "cell_type": "markdown",
      "metadata": {
        "id": "yBcdLmCO2j_9"
      },
      "source": [
        "**Questão 8**"
      ]
    },
    {
      "cell_type": "code",
      "metadata": {
        "colab": {
          "base_uri": "https://localhost:8080/"
        },
        "id": "vPJkA7-x2kGW",
        "outputId": "5f6c4296-8ce3-49cb-a0d1-9b935608164e"
      },
      "source": [
        "from numpy import angle, complex, degrees\r\n",
        "\r\n",
        "#Dados da Questão:\r\n",
        "Rp = 5                      #Ohm\r\n",
        "Xp = 6                      #Ohm\r\n",
        "Rc = 50000                  #Ohm\r\n",
        "Rs = 0.005                  #Ohm\r\n",
        "Xs = 0.006                  #Ohm\r\n",
        "Xm = 10000                  #Ohm\r\n",
        "a = 8000 / 277\r\n",
        "Pot = 100000                #V*A\r\n",
        "Vbase = 277                 #V\r\n",
        "\r\n",
        "#a) Para encontrar o circuito equivalente no lado de baixa tensão, primeiramente calculamos as impedâncias primárias referidas a este lado. Assim,\r\n",
        "Rp2 = Rp / (a**2)           #Ohm\r\n",
        "Xp2 = Xp / (a**2)           #Ohm\r\n",
        "#Do mesmo modo, os elementos de ramificação de excitação referidos ao lado secundário são:\r\n",
        "Rc2 = Rc / (a**2)           #Ohm\r\n",
        "Xm2 = Xm / (a**2)           #Ohm\r\n",
        "print('a) O circuito é constituido por, lado primário: Rp =', Rp2, 'e Xp =', Xp2, '; lado secundário: Rs =', Rs, 'e Xs =', Xs, '. Tendo como elementos de ramificação: Rc =', Rc2, 'e Xm =', Xm2)\r\n",
        "\r\n",
        "#b) Através da potência nominal e a tensão nominal (Vbase), temos a corrente nominal:\r\n",
        "Ibase = Pot / Vbase         #A\r\n",
        "#Logo, a impedância da base no lado primário é:\r\n",
        "Zbase = Vbase / Ibase       #Ohm\r\n",
        "#Portanto, o circuito equivalente por unidade deste transformador basta dividir o Zatual pelo da base, obtendo:\r\n",
        "Rp3 = Rp2 / Zbase           #Ohm\r\n",
        "Xp3 = Xp2 / Zbase           #Ohm\r\n",
        "Rc3 = Rc2 / Zbase           #Ohm\r\n",
        "Xm3 = Xm2 / Zbase           #Ohm\r\n",
        "Rs3 = Rs / Zbase            #Ohm\r\n",
        "Xs3 = Xs / Zbase            #Ohm\r\n",
        "print('b) O circuito é constituido por, lado primário: Rp =', Rp3, 'e Xp =', Xp3, '; lado secundário: Rs =', Rs3, 'e Xs =', Xs3, '. Tendo como elementos de ramificação: Rc =', Rc3, 'e Xm =', Xm3)\r\n",
        "\r\n",
        "#c) Para simplificar o cálculo, simplificamos o circuito equivalente referido ao lado secundário obtendo:\r\n",
        "Rsimp = Rp2 + Rs\r\n",
        "Xsimp = Xp2 + Xs\r\n",
        "Req = complex(Rsimp, Xsimp)\r\n",
        "#A corrente secundária no transformador é:\r\n",
        "Is = Pot / Vbase\r\n",
        "fi = -31.8                  #Graus\r\n",
        "#Logo, a tensão de entrada no transformador é:\r\n",
        "Vp = Vbase + (Rsimp * Is)\r\n",
        "fi2 = degrees(angle(Req)) + fi\r\n",
        "#e a regulação de tensão corresponde a:\r\n",
        "RT = ((Vp - Vbase) / Vbase) * 100  #%\r\n",
        "print('c) A tensão de entrada é: Vp =', Vp, '; ângulo de fase:', fi2, '. A regulação de tensão é: RT =', RT)\r\n",
        "\r\n",
        "#d)\r\n",
        "Pcu = (Is**2) * Rsimp              #W\r\n",
        "Pnucleo = (Vp**2) / Rc2            #W\r\n",
        "print('d) Perda no cobre e no núcleo são, respectivamente: Pcu =', Pcu, 'e Pnucleo =', Pnucleo)\r\n",
        "\r\n",
        "#e) Para encontrarmos a eficiência é preciso calcular a perda de saída:\r\n",
        "Ps = Pot * 0.85                    #W\r\n",
        "n = (Ps / (Ps + Pcu + Pnucleo)) * 100   #%\r\n",
        "print('e) A eficiência do transformador é:', n)"
      ],
      "execution_count": null,
      "outputs": [
        {
          "output_type": "stream",
          "text": [
            "a) O circuito é constituido por, lado primário: Rp = 0.005994453125 e Xp = 0.007193343750000001 ; lado secundário: Rs = 0.005 e Xs = 0.006 . Tendo como elementos de ramificação: Rc = 59.944531250000004 e Xm = 11.988906250000001\n",
            "b) O circuito é constituido por, lado primário: Rp = 0.007812500000000002 e Xp = 0.009375000000000003 ; lado secundário: Rs = 0.006516440980594039 e Xs = 0.007819729176712847 . Tendo como elementos de ramificação: Rc = 78.12500000000001 e Xm = 15.625000000000004\n",
            "c) A tensão de entrada é: Vp = 280.9691166516246 ; ângulo de fase: 18.39442890773481 . A regulação de tensão é: RT = 1.4328940980594131\n",
            "d) Perda no cobre e no núcleo são, respectivamente: Pcu = 1432.894098059404 e Pnucleo = 1316.9448966538414\n",
            "e) A eficiência do transformador é: 96.86627459808909\n"
          ],
          "name": "stdout"
        }
      ]
    },
    {
      "cell_type": "markdown",
      "metadata": {
        "id": "9C2KHOIQ2kM3"
      },
      "source": [
        "**Questão 9**"
      ]
    },
    {
      "cell_type": "code",
      "metadata": {
        "colab": {
          "base_uri": "https://localhost:8080/"
        },
        "id": "DICnvfox2kSm",
        "outputId": "147352fd-f3e7-4536-e79b-fe6b47d88f1d"
      },
      "source": [
        "from numpy import abs, angle, complex, degrees\r\n",
        "from math import sqrt, pi, sin, cos\r\n",
        "\r\n",
        "#Dados da Questão:\r\n",
        "Req = 0.20              #Ohm\r\n",
        "Xeq = 0.80              #Ohm\r\n",
        "Rc = 300                #Ohm\r\n",
        "Xm = 100                #Ohm\r\n",
        "a = 0.5\r\n",
        "\r\n",
        "#Como não há especificação no circuito equivalente, utilizamos o circuito equivalente referido ao lado primário. Assim,\r\n",
        "Vs = 282.2 / sqrt(2)    #V\r\n",
        "IsM = 7.07 / sqrt(2)    #A\r\n",
        "ang = (-36.87)*pi / 180 #rad\r\n",
        "Is = complex(IsM*cos(ang), IsM*sin(ang))\r\n",
        "\r\n",
        "#A tensão e a corrente secundárias referidas ao lado primário são:\r\n",
        "Vs1 = a * Vs            #V\r\n",
        "Is1 = Is / a            #A\r\n",
        "\r\n",
        "#A tensão do circuito primário é dada por:\r\n",
        "Vp = Vs1 + (Is1 * complex(Req, Xeq))\r\n",
        "VP = abs(Vp)\r\n",
        "\r\n",
        "#A corrente de excitação deste transformador é: Iex = Ic + Im. Assim,\r\n",
        "Iex = (Vp / Rc) + (Vp / complex(0, Xm))\r\n",
        "\r\n",
        "#Logo, a corrente primária total é:\r\n",
        "Ip = Iex + Is1\r\n",
        "IP = abs(Ip)\r\n",
        "fi = degrees(angle(Ip))\r\n",
        "print('A corrente primária é: Ip =', Ip, '; o módulo da corrente é:', IP, '; o ângulo de fase é:', fi)\r\n",
        "\r\n",
        "#A regulação da tensão do transformador nesta carga é:\r\n",
        "RT = ((VP - a*Vs) / (a*Vs)) * 100   #%\r\n",
        "print('A regulação da tensão é: RT =', RT)\r\n",
        "\r\n",
        "#Para encontrar a eficiência encontramos as potências de entrada e saída primeiramente:\r\n",
        "angulo1 = (2.8 - (-40))*pi / 180\r\n",
        "Pe = VP * IP * cos(angulo1)\r\n",
        "angulo2 = (36.87)*pi / 180\r\n",
        "Ps = Vs * IsM * cos(angulo2)\r\n",
        "ef = (Ps / Pe) * 100\r\n",
        "print('Eficiência do transformador é:', ef)"
      ],
      "execution_count": null,
      "outputs": [
        {
          "output_type": "stream",
          "text": [
            "A corrente primária é: Ip = (8.404679257114182-7.043495639461313j) ; o módulo da corrente é: 10.965831671062434 ; o ângulo de fase é: -39.96450702625957\n",
            "A regulação da tensão é: RT = 6.54113196308518\n",
            "Eficiência do transformador é: 93.31011802964542\n"
          ],
          "name": "stdout"
        }
      ]
    },
    {
      "cell_type": "markdown",
      "metadata": {
        "id": "-K7poXDm2kYE"
      },
      "source": [
        "**Questão 10**"
      ]
    },
    {
      "cell_type": "code",
      "metadata": {
        "colab": {
          "base_uri": "https://localhost:8080/"
        },
        "id": "2wVH65_g2kd0",
        "outputId": "3b949f87-a5b0-4716-e18f-bced468803c3"
      },
      "source": [
        "from numpy import complex\r\n",
        "from math import cos, sin, acos, pi\r\n",
        "\r\n",
        "#Dados da Questão:\r\n",
        "a = 230/115\r\n",
        "s = 1000\r\n",
        "\r\n",
        "#Ensaio de Curto-circuito:\r\n",
        "v1 = 17.1                   #V\r\n",
        "I1 = 8.7                    #A\r\n",
        "pot1 = 38.1                 #W\r\n",
        "\r\n",
        "#Ensaio a Vazio:\r\n",
        "v2 = 115                    #V\r\n",
        "I2 = 0.11                   #A\r\n",
        "pot2 = 3.9                  #W\r\n",
        "\r\n",
        "#a)\r\n",
        "#Circuito Primário:\r\n",
        "Z1 = v1 / I1\r\n",
        "angulo1 = acos(pot1 / (v1*I1))\r\n",
        "Zeq = complex(Z1*cos(angulo1), Z1*sin(angulo1))\r\n",
        "Req = Zeq.real\r\n",
        "Xeq = Zeq.imag\r\n",
        "\r\n",
        "#Circuito Secundário:\r\n",
        "Yex2 = I2 / v2\r\n",
        "angulo2 = acos(pot2 / (v2*I2))\r\n",
        "Yex = complex(Yex2*cos(angulo2), Yex2*sin(angulo2))\r\n",
        "Rc = 1 / Yex.real\r\n",
        "Xm = 1 / Yex.imag\r\n",
        "\r\n",
        "#Assim, para converter o circuito equivalente para o lado de baixa tensão (secundário), dividimos a impedância em série por a².\r\n",
        "#Observe que os elementos do ramo de excitação já estão no lado secundário. O circuito equivalente resultante é:\r\n",
        "Reqs = Req / a**2\r\n",
        "Xeqs = Xeq / a**2\r\n",
        "Rcs = Rc\r\n",
        "Xms = Xm\r\n",
        "print('O circuito equivalente para o lado de BT é constituido por: Req =', Reqs, ', Xeq =', Xeqs, ', Rc =', Rcs, 'e Xm =', Xms)\r\n",
        "\r\n",
        "#b) Para encontrar a regulação de tensão, iremos utilizar o circuito equivalente anterior. Assim,\r\n",
        "Is = s / v2\r\n",
        "\r\n",
        "#1°: FP (0.8) Atrasado\r\n",
        "FP1 = 0.8\r\n",
        "angc1 = acos(FP1)                #rad\r\n",
        "angc = -(acos(FP1)*180)/pi       #graus\r\n",
        "angc2 = ((angc+90)*pi)/180      #rad\r\n",
        "Is1 = complex(Is*cos(-angc1), Is*sin(-angc1))\r\n",
        "Is2 = complex(Is*cos(angc2), Is*sin(angc2))\r\n",
        "Vp1 = v2 + Reqs*Is1 + Xeqs*Is2\r\n",
        "RT1 = ((Vp1.real - v2) / v2) * 100         #%\r\n",
        "print('b) FP 0.8 atrasado, temos que RT =', RT1)\r\n",
        "\r\n",
        "#2°: FP (1.0)\r\n",
        "FP2 = 1.0\r\n",
        "angc3 = acos(FP2)                #rad\r\n",
        "angcx = -(acos(FP2)*180)/pi       #graus\r\n",
        "angc4 = ((angcx+90)*pi)/180      #rad\r\n",
        "Is3 = complex(Is*cos(-angc3), Is*sin(-angc3))\r\n",
        "Is4 = complex(Is*cos(angc4), Is*sin(angc4))\r\n",
        "Vp2 = v2 + Reqs*Is3 + Xeqs*Is4\r\n",
        "RT2 = ((Vp2.real - v2) / v2) * 100         #%\r\n",
        "print('FP 1.0, temos que RT =', RT2)\r\n",
        "\r\n",
        "#FP = 0.8 adiantado\r\n",
        "FP3 = 0.8\r\n",
        "angc5 = -acos(FP3)\r\n",
        "angcy = (acos(FP3)*180)/pi       #graus\r\n",
        "angc6 = -((angcy+90)*pi)/180      #rad\r\n",
        "Is5 = complex(Is*cos(-angc5), Is*sin(-angc5))\r\n",
        "Is6 = complex(Is*cos(angc6), Is*sin(angc6))\r\n",
        "Vp3 = v2 + Reqs*Is5 + Xeqs*Is6\r\n",
        "RT3 = ((Vp3.real - v2) / v2) * 100         #%\r\n",
        "print('FP 0.8 adiantado, temos que RT =', RT3)\r\n",
        "\r\n",
        "#c) Nas condições nominais e para FP 0.8 atrasado, temos que a potência de saída, as perdas do cobre e do núcleo são, respectivamente:\r\n",
        "Ps = v2 * Is * cos(angc2)\r\n",
        "Pcu = Is**2 * Reqs\r\n",
        "Pnucleo = (Vp1.real**2) / Rc\r\n",
        "ef = (Ps / (Ps + Pcu + Pnucleo)) * 100\r\n",
        "print('c) A eficiência do transformador é =', ef)"
      ],
      "execution_count": null,
      "outputs": [
        {
          "output_type": "stream",
          "text": [
            "O circuito equivalente para o lado de BT é constituido por: Req = 0.125842251288149 , Xeq = 0.47499195195886096 , Rc = 3391.025641025641 e Xm = 1098.9872530219375\n",
            "b) FP 0.8 atrasado, temos que RT = 2.9162115100630266\n",
            "FP 1.0, temos que RT = 0.9515482138990419\n",
            "FP 0.8 adiantado, temos que RT = -1.3937343678245546\n",
            "c) A eficiência do transformador é = 97.77620037379403\n"
          ],
          "name": "stdout"
        }
      ]
    },
    {
      "cell_type": "markdown",
      "metadata": {
        "id": "QswaDiG83FCY"
      },
      "source": [
        "**Questão 11**"
      ]
    },
    {
      "cell_type": "code",
      "metadata": {
        "colab": {
          "base_uri": "https://localhost:8080/"
        },
        "id": "aoR1BWcp3FlF",
        "outputId": "25dadbd9-3059-4af2-ba66-73f176822868"
      },
      "source": [
        "from numpy import angle, complex, degrees\r\n",
        "from math import cos, sin, acos, pi\r\n",
        "\r\n",
        "#Dados da Questão:\r\n",
        "s = 30000\r\n",
        "a = 8000/230\r\n",
        "\r\n",
        "#Circuito Primário:\r\n",
        "Z1 = complex(20, 100)\r\n",
        "Rc = 100000\r\n",
        "Xm = 20000\r\n",
        "\r\n",
        "#a) Dados:\r\n",
        "v1 = 7967\r\n",
        "Zc = complex(2, 0.7)\r\n",
        "#Passando todos os componentes para o lado primário do transformador, temos que:\r\n",
        "Zc1 = (a**2) * Zc\r\n",
        "Is = v1 / (Z1 + Zc1)\r\n",
        "vs1 = Is * Zc1\r\n",
        "#Assim, a tensão secundária do transformador é:\r\n",
        "vs = vs1 / a            #V\r\n",
        "Vs = abs(vs)\r\n",
        "fi = degrees(angle(vs))\r\n",
        "print('a) A tensão secundária do transformador é: Vs=', vs,'. O módulo da tensão é: |Vs| =', Vs, 'e o ângulo de fase é:', fi)\r\n",
        "VR = ((v1 - vs1.real) / vs1.real) * 100         #%\r\n",
        "print('A regulação de tensão do transformador é: VR =', VR)\r\n",
        "\r\n",
        "#b) Dados:\r\n",
        "Z = complex(0, -3)\r\n",
        "#Do mesmo modo que no item anterior, passando os componentes para o lado primário, temos que:\r\n",
        "Zc2 = (a**2) * Z\r\n",
        "Is2 = v1 / (Z1 + Zc2)\r\n",
        "vs2 = Is2 * Zc2\r\n",
        "#Assim, a tensão secundária do transformador é:\r\n",
        "vs_ = vs2 / a           #V\r\n",
        "Vs_ = abs(vs_)\r\n",
        "fi2 = degrees(angle(vs_))\r\n",
        "print('b) A tensão secundária do transformador é: Vs=', vs_,'. O módulo da tensão é: |Vs| =', Vs_, 'e o ângulo de fase é:', fi2)\r\n",
        "RT = ((v1 - vs2.real) / vs2.real) * 100         #%\r\n",
        "print('A regulação de tensão do transformador é: RT =', RT)"
      ],
      "execution_count": null,
      "outputs": [
        {
          "output_type": "stream",
          "text": [
            "a) A tensão secundária do transformador é: Vs= (224.25246821698724-7.526152063327277j) . O módulo da tensão é: |Vs| = 224.3787255206946 e o ângulo de fase é: -1.9221860179086427\n",
            "A regulação de tensão do transformador é: VR = 2.1399014339362585\n",
            "b) A tensão secundária do transformador é: Vs= (235.5333293895413-1.3346594317076466j) . O módulo da tensão é: |Vs| = 235.53711081084614 e o ângulo de fase é: -0.3246654486575081\n",
            "A regulação de tensão do transformador é: RT = -2.752085832753116\n"
          ],
          "name": "stdout"
        }
      ]
    },
    {
      "cell_type": "markdown",
      "metadata": {
        "id": "YRWBXLZ13FtF"
      },
      "source": [
        "**Questão 12**"
      ]
    },
    {
      "cell_type": "code",
      "metadata": {
        "colab": {
          "base_uri": "https://localhost:8080/"
        },
        "id": "iMzqLZ-u3F1d",
        "outputId": "f40262e9-7195-4b88-ecd8-9783e9cd923f"
      },
      "source": [
        "from numpy import angle, complex, degrees\r\n",
        "from math import cos, sin, acos, pi\r\n",
        "\r\n",
        "#Dados da Questão:\r\n",
        "a = 230/13.8\r\n",
        "s = 5000000\r\n",
        "\r\n",
        "#Ensaio a Vazio:\r\n",
        "v = 13800                   #V\r\n",
        "I = 21.1                    #A\r\n",
        "pot = 9800                  #W\r\n",
        "\r\n",
        "#a) O teste foi realizado no lado de baixa tensão do transformador, então podemos usar os valores para encontrar diretamente o circuito equivalente. Logo,\r\n",
        "Yex = I / v\r\n",
        "angulo = acos(pot / (v*I))\r\n",
        "Yex = complex(Yex*cos(angulo), Yex*sin(angulo))\r\n",
        "Rc = 1 / Yex.real\r\n",
        "Xm = 1 / Yex.imag\r\n",
        "Zbase = (v**2) / s\r\n",
        "\r\n",
        "#Sabendo que tem uma resistência por unidade de 1% e uma reatância por unidade de 5%, isto é:\r\n",
        "Req = 0.01 * Zbase\r\n",
        "Xeq = 0.05 * Zbase\r\n",
        "\r\n",
        "#Assim, o circuito equivalente é:\r\n",
        "Reqs = Req                          #Ohm\r\n",
        "Xeqs = complex(0, Xeq)              #Ohm\r\n",
        "Rcs = Rc                            #Ohm\r\n",
        "Xms = Xm                            #Ohm\r\n",
        "print('a) O circuito equivalente é constituido por: Req =', Reqs, ', Xeq =', Xeqs, ', Rc =', Rcs, 'e Xm =', Xms)\r\n",
        "\r\n",
        "#b) Dados:\r\n",
        "v2 = 13800                          #V\r\n",
        "pot2 = 4000000                      #W\r\n",
        "FP = 0.8                            #atrasado\r\n",
        "\r\n",
        "Is = pot2 / (v2 * FP)\r\n",
        "angc1 = acos(FP)                #rad\r\n",
        "angc = -(acos(FP)*180)/pi       #graus\r\n",
        "angc2 = ((angc+90)*pi)/180      #rad\r\n",
        "Is1 = complex(Is*cos(-angc1), Is*sin(-angc1))\r\n",
        "Is2 = complex(Is*cos(angc2), Is*sin(angc2))\r\n",
        "Vp = v2 + Req*Is1 + Xeq*Is2\r\n",
        "RT = ((Vp.real - v2) / v2) * 100         #%\r\n",
        "print('b) A regulação de tensão é: RT =', RT)\r\n",
        "\r\n",
        "#As perdas do cobre e do núcleo são, respectivamente:\r\n",
        "Pcu = (Is**2) * Reqs            #W\r\n",
        "Pnucleo = (Vp.real**2) / Rc\r\n",
        "ef = pot2 / (pot2 + Pcu + Pnucleo) * 100    #%\r\n",
        "print('A eficiência do transformador é: ef =', ef)"
      ],
      "execution_count": null,
      "outputs": [
        {
          "output_type": "stream",
          "text": [
            "a) O circuito equivalente é constituido por: Req = 0.38088 , Xeq = 1.9044j , Rc = 19432.653061224537 e Xm = 654.399172096898\n",
            "b) A regulação de tensão é: RT = 3.799999999999997\n",
            "A eficiência do transformador é: ef = 98.50860554106465\n"
          ],
          "name": "stdout"
        }
      ]
    },
    {
      "cell_type": "markdown",
      "metadata": {
        "id": "XybUXbh_3GCn"
      },
      "source": [
        "**Questão 13**"
      ]
    },
    {
      "cell_type": "code",
      "metadata": {
        "colab": {
          "base_uri": "https://localhost:8080/"
        },
        "id": "dULLegMl3GMF",
        "outputId": "38cecedf-96a8-428d-e790-4a935c56e5e1"
      },
      "source": [
        "from numpy import abs, angle, complex, degrees\r\n",
        "\r\n",
        "#Dados da Questão:\r\n",
        "Rp = 4                      #Ohm\r\n",
        "Xp = 8                      #Ohm\r\n",
        "Xs = 2                      #Ohm\r\n",
        "Rs = 1                      #Ohm\r\n",
        "a = 4\r\n",
        "Rc = 20                     #Ohm\r\n",
        "Vg = 120                    #V\r\n",
        "\r\n",
        "#a) Para calcular a resistência equivalente, temos que:\r\n",
        "Req = Rp + (a**2)*Rs        #Ohm\r\n",
        "print('a) Req =', Req)\r\n",
        "\r\n",
        "#b) Do mesmo modo que no item anterior, para a reatância equivalente, obtemos:\r\n",
        "Xeq = Xp + (a**2)*Xs        #Ohm\r\n",
        "print('b) Xeq =', Xeq)\r\n",
        "\r\n",
        "#c) O circuito equivalente refletivo para o primário é constituído de Vg, Req, Xeq e aVc. Assim, o circuito equivalente é:\r\n",
        "x = (a**2) * Rc             #Ohm\r\n",
        "print('c) Circuito equivalente possui: Vg =', Vg, '; Req =', Req, '; Xeq =', Xeq, '; a²Rc =', x)\r\n",
        "\r\n",
        "#d) A corrente equivalente no primário para um Vg = 50V, corresponde a:\r\n",
        "Zp = complex(Req + x, Xeq)\r\n",
        "Ip = Vg / Zp\r\n",
        "#Para encontrar o módulo da corrente e o ângulo de fase:\r\n",
        "IP = abs(Ip)                        #A\r\n",
        "fi = degrees(angle(Ip))             #Graus\r\n",
        "print('d) Corrente equivalente no primário =', Ip, 'Módulo da corrente equivalente no primário =', IP, '; Ângulo de fase:', fi)\r\n",
        "\r\n",
        "#e) O módulo da tensão na carga Vc é:\r\n",
        "Vc = a * Ip * Rc                    #V\r\n",
        "VC = abs(Vc)\r\n",
        "fi2 = degrees(angle(Vc))\r\n",
        "print('e) Vc =', VC, '; Ângulo de fase:', fi2)"
      ],
      "execution_count": null,
      "outputs": [
        {
          "output_type": "stream",
          "text": [
            "a) Req = 20\n",
            "b) Xeq = 40\n",
            "c) Circuito equivalente possui: Vg = 120 ; Req = 20 ; Xeq = 40 ; a²Rc = 320\n",
            "d) Corrente equivalente no primário = (0.34812286689419797-0.040955631399317405j) Módulo da corrente equivalente no primário = 0.3505237427021916 ; Ângulo de fase: -6.7098368077569335\n",
            "e) Vc = 28.04189941617533 ; Ângulo de fase: -6.709836807756933\n"
          ],
          "name": "stdout"
        }
      ]
    },
    {
      "cell_type": "markdown",
      "metadata": {
        "id": "ym2NQ7RN3M0N"
      },
      "source": [
        "**Questão 14**"
      ]
    },
    {
      "cell_type": "code",
      "metadata": {
        "colab": {
          "base_uri": "https://localhost:8080/"
        },
        "id": "cyj9VZSy3M9v",
        "outputId": "a2e783cf-8c6e-4a22-9ea6-3010bcbe2ad6"
      },
      "source": [
        "from numpy import abs, angle, complex, degrees\r\n",
        "\r\n",
        "#Dados da Questão:\r\n",
        "Np = 4\r\n",
        "Ns = 1\r\n",
        "Rp = 4                      #Ohm\r\n",
        "Xp = 12                      #Ohm\r\n",
        "Xs = 2                      #Ohm\r\n",
        "Rs = 1                      #Ohm\r\n",
        "Vg = 120                    #V\r\n",
        "Xc = 20                     #Ohm\r\n",
        "\r\n",
        "#a) Para achar a impedância total refletida no primário substituindo a carga resistiva da questão 13 por uma reatância indutiva de 20 ohms, temos que:\r\n",
        "a = Np / Ns\r\n",
        "Req = Rp + (a**2) * Rs      #Ohm\r\n",
        "Xeq = Xp + (a**2) * Xs      #Ohm\r\n",
        "Zp = complex(Req, Xeq + (a**2) * Xc)\r\n",
        "#Assim, para encontrar o módulo da impedância total e o ângulo de fase:\r\n",
        "ZP = abs(Zp)                    #Ohm\r\n",
        "fi = degrees(angle(Zp))         #Graus\r\n",
        "print('a) Impedância total =', Zp, '; Módulo da impedância total =', ZP, '; Ângulo de fase =', fi)\r\n",
        "\r\n",
        "#b) A corrente no primário é dada por:\r\n",
        "Ip = Vg / Zp\r\n",
        "IP = abs(Ip)                    #A\r\n",
        "fi2 = degrees(angle(Ip))        #Graus\r\n",
        "print('b) Ip =', IP, '; Ângulo de fase =', fi2)\r\n",
        "\r\n",
        "#c) As tensões em Req, Xeq e na carga refletida são, respectivamente:\r\n",
        "Vreq = Ip * Req\r\n",
        "VReq = abs(Vreq)                #V\r\n",
        "print('c) Vreq =', VReq, '; Ângulo =', fi2)\r\n",
        "Vxeq = Ip * complex(0, Xeq)\r\n",
        "VXeq = abs(Vxeq)\r\n",
        "fi3 = degrees(angle(Vxeq))\r\n",
        "print('c) Vxeq =', VXeq, '; Ângulo =', fi3)\r\n",
        "Vxc = Ip * ((a**2) * complex(0,Xc))\r\n",
        "VXc = abs(Vxc)\r\n",
        "fi4 = degrees(angle(Vxc))\r\n",
        "print('c) Vxc =', VXc, '; Ângulo =', fi4)"
      ],
      "execution_count": null,
      "outputs": [
        {
          "output_type": "stream",
          "text": [
            "a) Impedância total = (20+364j) ; Módulo da impedância total = 364.5490364820623 ; Ângulo de fase = 86.85504253530198\n",
            "b) Ip = 0.32917382297320824 ; Ângulo de fase = -86.85504253530198\n",
            "c) Vreq = 6.5834764594641655 ; Ângulo = -86.85504253530198\n",
            "c) Vxeq = 14.483648210821164 ; Ângulo = 3.1449574646980216\n",
            "c) Vxc = 105.33562335142665 ; Ângulo = 3.1449574646980216\n"
          ],
          "name": "stdout"
        }
      ]
    }
  ]
}