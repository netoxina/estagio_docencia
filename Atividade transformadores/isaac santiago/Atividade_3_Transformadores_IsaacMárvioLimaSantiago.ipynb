{
  "nbformat": 4,
  "nbformat_minor": 0,
  "metadata": {
    "colab": {
      "name": "Atividade 3 - Transformadores - IsaacMárvioLimaSantiago.ipynb",
      "provenance": []
    },
    "kernelspec": {
      "name": "python3",
      "display_name": "Python 3"
    }
  },
  "cells": [
    {
      "cell_type": "markdown",
      "metadata": {
        "id": "K3veDxQNFjFp"
      },
      "source": [
        "Questão 1\r\n"
      ]
    },
    {
      "cell_type": "code",
      "metadata": {
        "colab": {
          "base_uri": "https://localhost:8080/"
        },
        "id": "gK_W53QwFZZu",
        "outputId": "572e8f3a-d86a-4a5b-f027-429477f4e6d6"
      },
      "source": [
        "V = 120\r\n",
        "a = 8\r\n",
        "\r\n",
        "# figura a\r\n",
        "Ra = 8 \r\n",
        "Rta = 500 + Ra \r\n",
        "\r\n",
        "Ia = V/Rta\r\n",
        "Pa = (Ia**2)*(Ra)\r\n",
        "print(f'a) A potência é igual a {Pa:.4f} W')\r\n",
        "\r\n",
        "# figura b\r\n",
        "Rb = Ra * a**2\r\n",
        "Rtb = 512 + Rb\r\n",
        "\r\n",
        "Ib = V/Rtb\r\n",
        "Pb = (Ib**2)*(Rb)\r\n",
        "print(f'b) A potência é igual a P = {Pb:.4f} W')\r\n",
        "\r\n",
        "q = Pb/Pa\r\n",
        "\r\n",
        "print(f'''c) Percebe-se que a potência está sendo melhor aproveitada com o uso do transformador, já que a potência é {q:.4f} vezes maior que na situação sem transformador.''')"
      ],
      "execution_count": null,
      "outputs": [
        {
          "output_type": "stream",
          "text": [
            "a) A potência é igual a 0.4464 W\n",
            "b) A potência é igual a P = 7.0312 W\n",
            "c) Percebe-se que a potência está sendo melhor aproveitada com o uso do transformador, já que a potência é 15.7510 vezes maior que na situação sem transformador.\n"
          ],
          "name": "stdout"
        }
      ]
    },
    {
      "cell_type": "markdown",
      "metadata": {
        "id": "ywU-aamjLo3Q"
      },
      "source": [
        "Questão 2"
      ]
    },
    {
      "cell_type": "code",
      "metadata": {
        "colab": {
          "base_uri": "https://localhost:8080/"
        },
        "id": "vCf6ScvLLr53",
        "outputId": "abaee7d8-d988-4a86-ffdc-4349c588dc21"
      },
      "source": [
        "Pa = 10\r\n",
        "Za = 8\r\n",
        "V = 70.7\r\n",
        "\r\n",
        "Pt = 4*Pa\r\n",
        "print(f'a) Pt= {Pt} W ')\r\n",
        "\r\n",
        "\r\n",
        "I = Pa/V\r\n",
        "Z = V/I\r\n",
        "print(f'\\nb) Z = {Z} ohms')\r\n",
        "\r\n",
        "a = (Z/Za)**0.5\r\n",
        "print(f'\\nc) Então a relação de espiras é de {a:.0f}:1.')\r\n",
        "\r\n",
        "Va = V/a\r\n",
        "print(f'\\nd) Va = {Va} V')\r\n",
        "\r\n",
        "\r\n",
        "print(f'\\ne) Para um alto-falante ligado e para 4 as cargas são, respectivamente, {Z:.4f} ohms e {Z/4:.4f} ohms.')\r\n"
      ],
      "execution_count": null,
      "outputs": [
        {
          "output_type": "stream",
          "text": [
            "a) Pt= 40 W \n",
            "\n",
            "b) Z = 499.84900000000005 ohms\n",
            "\n",
            "c) Então a relação de espiras é de 8:1.\n",
            "\n",
            "d) Va = 8.944271909999157 V\n",
            "\n",
            "e) Para um alto-falante ligado e para 4 as cargas são, respectivamente, 499.8490 ohms e 124.9623 ohms.\n"
          ],
          "name": "stdout"
        }
      ]
    },
    {
      "cell_type": "markdown",
      "metadata": {
        "id": "gXLPxSfJ2UHi"
      },
      "source": [
        "Questão 3"
      ]
    },
    {
      "cell_type": "code",
      "metadata": {
        "colab": {
          "base_uri": "https://localhost:8080/"
        },
        "id": "HaeEFA4F2Zx7",
        "outputId": "fdf7de1e-7aa1-4999-bfe3-44402c3d4d7a"
      },
      "source": [
        "a = 1/5\r\n",
        "Ip = 2\r\n",
        "Zc = 2\r\n",
        "\r\n",
        "Ic = a * Ip\r\n",
        "Vc = Zc * Ic\r\n",
        "print(f'a) Ic = {Ic} A e Vc = {Vc} V.')\r\n",
        "\r\n",
        "Zp = (a**2)*Zc\r\n",
        "print(f'\\nb) Zp = {Zp:.2f} ohms')"
      ],
      "execution_count": null,
      "outputs": [
        {
          "output_type": "stream",
          "text": [
            "a) Ic = 0.4 A e Vc = 0.8 V.\n",
            "\n",
            "b) Zp = 0.08 ohms\n"
          ],
          "name": "stdout"
        }
      ]
    },
    {
      "cell_type": "markdown",
      "metadata": {
        "id": "jExTJTj5-tWC"
      },
      "source": [
        "Questão 4"
      ]
    },
    {
      "cell_type": "code",
      "metadata": {
        "id": "xdOP-vXk-zFp",
        "colab": {
          "base_uri": "https://localhost:8080/"
        },
        "outputId": "fde7cebf-b681-41c6-9f6d-db1ff83215e7"
      },
      "source": [
        "from math import acos, cos, sin, pi\r\n",
        "\r\n",
        "s = 10000\r\n",
        "a = 4800/240\r\n",
        "FP = 1 \r\n",
        "\r\n",
        "# Ensaio a curto-circuito\r\n",
        "pot1 = 180 #W\r\n",
        "v1 = 180 #V\r\n",
        "Inom = s/4800\r\n",
        "\r\n",
        "# Ensaio a vazio\r\n",
        "pot2 = 60 #W\r\n",
        "v2 = 240 #V\r\n",
        "I2 = 1.5 # A\r\n",
        "\r\n",
        "\r\n",
        "Z1 = v1/Inom \r\n",
        "angulo1 = acos(pot1/(v1*Inom))\r\n",
        "Z1 = complex(Z1*cos(angulo1), Z1*sin(angulo1))\r\n",
        "Req = Z1.real/a**2\r\n",
        "Xeq = Z1.imag/a**2\r\n",
        "\r\n",
        "print('a)')\r\n",
        "print('Impedância equivalente referenciada ao lado de alta tensão')\r\n",
        "print(f'Z1 = {Z1} ohms')\r\n",
        "print(f'Rc1 = {Z1.real} ohms')\r\n",
        "print(f'X1 = {Z1.imag} ohms')\r\n",
        "\r\n",
        "print('\\nImpedância equivalente referenciada ao lado de baixa tensão')\r\n",
        "print(f'''Req = {Req} ohms\r\n",
        "Xeq = {Xeq} ohms\\n''') \r\n",
        "\r\n",
        "\r\n",
        "\r\n",
        "Yex2 = I2/v2 \r\n",
        "angulo2 = acos(pot2/(v2*I2))\r\n",
        "Yex2 = complex(Yex2*cos(angulo2), -Yex2*sin(angulo2))\r\n",
        "Rc2 = 1/Yex2.real \r\n",
        "X2 = 1/-Yex2.imag\r\n",
        "\r\n",
        "print('Impedância de excitação referenciada ao lado de baixa tensão')\r\n",
        "print(f'Yex2 = {Yex2} ohms - Admitância')\r\n",
        "print(f'''RCb = {Rc2} ohms\r\n",
        "XMb = {X2} ohms - para baixa tensão\\n''')\r\n",
        "\r\n",
        "print('A impedância de excitação referenciada ao lado de alta tensão')\r\n",
        "print(f'''RCa = {Rc2*a**2} ohms\r\n",
        "XMa = {X2*a**2} ohms - para alta tensão\\n''')\r\n",
        "\r\n",
        "\r\n",
        "Icarga = s/v2\r\n",
        "angcarga1 = acos(FP) \r\n",
        "angcarga = -(acos(FP)*180)/pi \r\n",
        "angcarga2 = ((angcarga+90)*pi)/180 \r\n",
        "Icarga1 = complex(Icarga*cos(-angcarga1), Icarga*sin(-angcarga1))\r\n",
        "Icarga2 = complex(Icarga*cos(angcarga2), Icarga*sin(angcarga2))\r\n",
        "VA = v2 + Req*Icarga1+ Xeq*Icarga2\r\n",
        "RT = (abs(VA) - v2)/v2\r\n",
        "print(f'b) RT = {RT*100}%')"
      ],
      "execution_count": null,
      "outputs": [
        {
          "output_type": "stream",
          "text": [
            "a)\n",
            "Impedância equivalente referenciada ao lado de alta tensão\n",
            "Z1 = (41.472+75.79599736133828j) ohms\n",
            "Rc1 = 41.472 ohms\n",
            "X1 = 75.79599736133828 ohms\n",
            "\n",
            "Impedância equivalente referenciada ao lado de baixa tensão\n",
            "Req = 0.10368000000000001 ohms\n",
            "Xeq = 0.1894899934033457 ohms\n",
            "\n",
            "Impedância de excitação referenciada ao lado de baixa tensão\n",
            "Yex2 = (0.0010416666666666669-0.006162583107395434j) ohms - Admitância\n",
            "RCb = 959.9999999999998 ohms\n",
            "XMb = 162.26961690787516 ohms - para baixa tensão\n",
            "\n",
            "A impedância de excitação referenciada ao lado de alta tensão\n",
            "RCa = 383999.9999999999 ohms\n",
            "XMa = 64907.84676315007 ohms - para alta tensão\n",
            "\n",
            "b) RT = 1.8531418268479292%\n"
          ],
          "name": "stdout"
        }
      ]
    },
    {
      "cell_type": "markdown",
      "metadata": {
        "id": "UNn_O2u8AIyz"
      },
      "source": [
        "Questão 5 "
      ]
    },
    {
      "cell_type": "code",
      "metadata": {
        "id": "shSE5C9DAKu0",
        "colab": {
          "base_uri": "https://localhost:8080/"
        },
        "outputId": "3262a0aa-1949-4ffd-9d4b-58f3669df139"
      },
      "source": [
        "from math import acos, cos, sin, pi\r\n",
        "\r\n",
        "a = 12000/240\r\n",
        "s = 100000\r\n",
        "Inom = s/12000 \r\n",
        "FP = 0.8\r\n",
        "\r\n",
        "# Ensaio a curto-circuito\r\n",
        "pot1 = 1200 \r\n",
        "v1 = 600 \r\n",
        "\r\n",
        "# Ensaio a vazio\r\n",
        "pot2 = 60 \r\n",
        "v2 = 240 \r\n",
        "I2 = 1.5 \r\n",
        "\r\n",
        "Z1 = v1/Inom \r\n",
        "angulo1 = acos(pot1/(v1*Inom))\r\n",
        "Z1 = complex(Z1*cos(angulo1), Z1*sin(angulo1))\r\n",
        "Req = Z1.real/a**2\r\n",
        "Xeq = Z1.imag/a**2\r\n",
        "\r\n",
        "print('a)')\r\n",
        "print('Impedância equivalente referenciada ao lado de alta tensão')\r\n",
        "print(f'Z1 = {Z1} ohms')\r\n",
        "print(f'Rc1 = {Z1.real} ohms')\r\n",
        "print(f'X1 = {Z1.imag} ohms')\r\n",
        "\r\n",
        "print('\\nImpedância equivalente referenciada ao lado de baixa tensão')\r\n",
        "print(f'''Req = {Req} ohms\r\n",
        "Xeq = {Xeq} ohms\\n''') \r\n",
        "\r\n",
        "Yex2 = I2/v2 \r\n",
        "angulo2 = acos(pot2/(v2*I2))\r\n",
        "Yex2 = complex(Yex2*cos(angulo2), -Yex2*sin(angulo2))\r\n",
        "Rc2 = 1/Yex2.real \r\n",
        "X2 = 1/-Yex2.imag\r\n",
        "\r\n",
        "print('Impedância de excitação referenciada ao lado de baixa tensão')\r\n",
        "print(f'Yex2 = {Yex2} ohms - Admitância')\r\n",
        "print(f'''RCb = {Rc2} ohms\r\n",
        "XMb = {X2} ohms - para baixa tensão\\n''')\r\n",
        "\r\n",
        "print('A impedância de excitação referenciada ao lado de alta tensão')\r\n",
        "print(f'''RCa = {Rc2*a**2} ohms\r\n",
        "XMa = {X2*a**2} ohms - para alta tensão\\n''')\r\n",
        "\r\n",
        "Icarga = s/v2\r\n",
        "angcarga1 = acos(FP) \r\n",
        "angcarga = -(acos(FP)*180)/pi \r\n",
        "angcarga2 = ((angcarga+90)*pi)/180 \r\n",
        "Icarga1 = complex(Icarga*cos(-angcarga1), Icarga*sin(-angcarga1))\r\n",
        "Icarga2 = complex(Icarga*cos(angcarga2), Icarga*sin(angcarga2))\r\n",
        "VA = v2 + Req*Icarga1+ Xeq*Icarga2\r\n",
        "RT = (abs(VA) - v2)/v2\r\n",
        "print(f'a) RT = {RT*100}%')"
      ],
      "execution_count": 21,
      "outputs": [
        {
          "output_type": "stream",
          "text": [
            "a)\n",
            "Impedância equivalente referenciada ao lado de alta tensão\n",
            "Z1 = (17.280000000000005+69.8956479331868j) ohms\n",
            "Rc1 = 17.280000000000005 ohms\n",
            "X1 = 69.8956479331868 ohms\n",
            "\n",
            "Impedância equivalente referenciada ao lado de baixa tensão\n",
            "Req = 0.0069120000000000015 ohms\n",
            "Xeq = 0.027958259173274717 ohms\n",
            "\n",
            "Impedância de excitação referenciada ao lado de baixa tensão\n",
            "Yex2 = (0.0010416666666666669-0.006162583107395434j) ohms - Admitância\n",
            "RCb = 959.9999999999998 ohms\n",
            "XMb = 162.26961690787516 ohms - para baixa tensão\n",
            "\n",
            "A impedância de excitação referenciada ao lado de alta tensão\n",
            "RCa = 2399999.9999999995 ohms\n",
            "XMa = 405674.0422696879 ohms - para alta tensão\n",
            "\n",
            "a) RT = 3.920468305221559%\n"
          ],
          "name": "stdout"
        }
      ]
    },
    {
      "cell_type": "markdown",
      "metadata": {
        "id": "VSC9W3VwTiss"
      },
      "source": [
        "Questão 6"
      ]
    },
    {
      "cell_type": "code",
      "metadata": {
        "colab": {
          "base_uri": "https://localhost:8080/"
        },
        "id": "OZutEuSvTh-J",
        "outputId": "c3637b3f-b761-4e84-b5ba-66d85b802d16"
      },
      "source": [
        "# Dados úteis\r\n",
        "a = 2400/240\r\n",
        "FP = 0.15\r\n",
        "\r\n",
        "# Baixa tensão\r\n",
        "Pb = 254 \r\n",
        "Vb = 240\r\n",
        "\r\n",
        "S = Pb/FP \r\n",
        "Qb = (S**2 - Pb**2)**0.5\r\n",
        "\r\n",
        "RCb = (Vb**2)/Pb\r\n",
        "XMb = (Vb**2)/Qb\r\n",
        "\r\n",
        "# Alta tensão\r\n",
        "RCa = RCb * a**2\r\n",
        "XMa = complex(0, XMb * a**2)\r\n",
        "Zeqa = (RCa * XMa)/(RCa + XMa)\r\n",
        "I = 2400/Zeqa\r\n",
        "print(f'A corrente pedida é {I} A.')\r\n"
      ],
      "execution_count": 23,
      "outputs": [
        {
          "output_type": "stream",
          "text": [
            "A corrente pedida é (0.10583333333333332-0.6975728976464499j) A.\n"
          ],
          "name": "stdout"
        }
      ]
    },
    {
      "cell_type": "markdown",
      "metadata": {
        "id": "u1HNtE08Wlp6"
      },
      "source": [
        "Questão 7 "
      ]
    },
    {
      "cell_type": "code",
      "metadata": {
        "id": "J2EZ8cn7WmK8",
        "colab": {
          "base_uri": "https://localhost:8080/"
        },
        "outputId": "018cb523-d1b8-4702-de29-7b64d2334fbd"
      },
      "source": [
        "from math import acos, cos, sin, pi\r\n",
        "\r\n",
        "a = 24200/220\r\n",
        "s = 250000\r\n",
        "FP = 0.92\r\n",
        "\r\n",
        "# Ensaio a curto-circuito\r\n",
        "pot1 = 1700 #W\r\n",
        "v1 = 600 #V\r\n",
        "Inom = s/24200 * 0.85\r\n",
        "\r\n",
        "# Ensaio a vazio\r\n",
        "pot2 = 1200 #W\r\n",
        "I2 = 16 # A\r\n",
        "Vnom = 220 * 0.85#V\r\n",
        "\r\n",
        "Z1 = v1/Inom \r\n",
        "angulo1 = acos(pot1/(v1*Inom))\r\n",
        "Z1 = complex(Z1*cos(angulo1), Z1*sin(angulo1))\r\n",
        "Req = Z1.real/a**2\r\n",
        "Xeq = Z1.imag/a**2\r\n",
        "print('a)')\r\n",
        "print('Impedância equivalente referenciada ao lado de alta tensão')\r\n",
        "print(f'Z1 = {Z1} ohms')\r\n",
        "print(f'Rc1 = {Z1.real} ohms')\r\n",
        "print(f'X1 = {Z1.imag} ohms')\r\n",
        "\r\n",
        "print('\\nImpedância equivalente referenciada ao lado de baixa tensão')\r\n",
        "print(f'''Req = {Req} ohms\r\n",
        "Xeq = {Xeq} ohms\\n''') \r\n",
        "\r\n",
        "\r\n",
        "Yex2 = I2/Vnom\r\n",
        "angulo2 = acos(pot2/(Vnom*I2))\r\n",
        "Yex2 = complex(Yex2*cos(angulo2), -Yex2*sin(angulo2))\r\n",
        "Rc2 = 1/Yex2.real \r\n",
        "X2 = 1/-Yex2.imag\r\n",
        "\r\n",
        "print('Impedância de excitação referenciada ao lado de baixa tensão')\r\n",
        "print(f'Yex2 = {Yex2} ohms - Admitância')\r\n",
        "print(f'''RCb = {Rc2} ohms\r\n",
        "XMb = {X2} ohms - para baixa tensão\\n''')\r\n",
        "\r\n",
        "print('A impedância de excitação referenciada ao lado de alta tensão')\r\n",
        "print(f'''RCa = {Rc2*a**2} ohms\r\n",
        "XMa = {X2*a**2} ohms - para alta tensão\\n''')\r\n",
        "\r\n",
        "\r\n",
        "\r\n",
        "Icarga = s/Vnom\r\n",
        "angcarga1 = acos(FP) #rad\r\n",
        "angcarga = -(acos(FP)*180)/pi #graus\r\n",
        "angcarga2 = ((angcarga+90)*pi)/180 #rad\r\n",
        "Icarga1 = complex(Icarga*cos(-angcarga1), Icarga*sin(-angcarga1))\r\n",
        "Icarga2 = complex(Icarga*cos(angcarga2), Icarga*sin(angcarga2))\r\n",
        "VA = Vnom + Req*Icarga1+ Xeq*Icarga2\r\n",
        "RT = (abs(VA) - Vnom)/Vnom\r\n",
        "print(f'\\nb) RT = {RT*100}%')"
      ],
      "execution_count": 20,
      "outputs": [
        {
          "output_type": "stream",
          "text": [
            "a)\n",
            "Impedância equivalente referenciada ao lado de alta tensão\n",
            "Z1 = (22.047623529411773+64.67465352683426j) ohms\n",
            "Rc1 = 22.047623529411773 ohms\n",
            "X1 = 64.67465352683426 ohms\n",
            "\n",
            "Impedância equivalente referenciada ao lado de baixa tensão\n",
            "Req = 0.001822117647058824 ohms\n",
            "Xeq = 0.005345012688168121 ohms\n",
            "\n",
            "Impedância de excitação referenciada ao lado de baixa tensão\n",
            "Yex2 = (0.03431610855329006-0.07837840594488185j) ohms - Admitância\n",
            "RCb = 29.140833333333333 ohms\n",
            "XMb = 12.758616202315103 ohms - para baixa tensão\n",
            "\n",
            "A impedância de excitação referenciada ao lado de alta tensão\n",
            "RCa = 352604.0833333333 ohms\n",
            "XMa = 154379.25604801276 ohms - para alta tensão\n",
            "\n",
            "\n",
            "b) RT = 2.74002714437874%\n"
          ],
          "name": "stdout"
        }
      ]
    },
    {
      "cell_type": "markdown",
      "metadata": {
        "id": "g_F3qdRNWnOj"
      },
      "source": [
        "Questão 8 "
      ]
    },
    {
      "cell_type": "code",
      "metadata": {
        "id": "atUcUxbbWnbP",
        "colab": {
          "base_uri": "https://localhost:8080/"
        },
        "outputId": "a3601364-8d9c-4c9b-8880-6c2ea3e69405"
      },
      "source": [
        "from math import acos, cos, sin, pi\r\n",
        "\r\n",
        "a = 8000/277\r\n",
        "v2 = 277\r\n",
        "s = 100000\r\n",
        "Inom2 = s/v2\r\n",
        "\r\n",
        "# Constantes do lado de alta tensão\r\n",
        "Rc = 50000\r\n",
        "Xm = 10000\r\n",
        "Rp = 5 \r\n",
        "Xp = 6\r\n",
        "\r\n",
        "# Constantes do lado de baixa tensão\r\n",
        "Rs = 0.005 \r\n",
        "Xs = 0.006\r\n",
        "\r\n",
        "# Reflexões\r\n",
        "Reqp = Rp + Rs*a**2\r\n",
        "Xeqp = Xp + Xs*a**2\r\n",
        "\r\n",
        "Reqs = Rs + Rp/a**2\r\n",
        "Xeqs = Xs + Xp/a**2\r\n",
        "Rcs = Rc/a**2\r\n",
        "Xms = Xm/a**2\r\n",
        "\r\n",
        "print(f'''a) Circuito referenciado pelo lado de alta tensão\r\n",
        "Reqp = {Reqp}\r\n",
        "Xeqp = {Xeqp}\r\n",
        "Rc = {Rc}\r\n",
        "Xm = {Xm}\r\n",
        "\r\n",
        "Circuito referenciado pelo lado de baixa tensão\r\n",
        "Reqs = {Reqs}\r\n",
        "Xeqs = {Xeqs}\r\n",
        "Rcs = {Rcs}\r\n",
        "Xms = {Xms}\r\n",
        "      ''')\r\n",
        "\r\n",
        "Znom2 = v2/Inom2\r\n",
        "print(f'b) Znom2 = {Znom2} ohms')\r\n",
        "\r\n",
        "FP = 0.85\r\n",
        "Is = complex(Inom2*FP, - Inom2 * sin(acos(FP)))\r\n",
        "\r\n",
        "VA = v2 + complex(0.011, 0.0132)*Is\r\n",
        "\r\n",
        "RT = (abs(VA) - v2)/v2\r\n",
        "print(f'c) RT = {RT*100}%')\r\n",
        "\r\n",
        "Psaida = s*FP\r\n",
        "Pcobre = 0.011*(Inom2**2)\r\n",
        "Pnucleo = (abs(VA)**2)/Rc\r\n",
        "print(f'''d)\r\n",
        "Pcobre = {Pcobre} W\r\n",
        "Pnucleo = {Pnucleo} W\r\n",
        "Psaida = {Psaida} W''')\r\n",
        "\r\n",
        "n = (Psaida)/(Psaida+Pcobre+Pnucleo)\r\n",
        "print(f'e) Eficiência n = {n*100}%')"
      ],
      "execution_count": null,
      "outputs": [
        {
          "output_type": "stream",
          "text": [
            "a) Circuito referenciado pelo lado de alta tensão\n",
            "Reqp = 9.170522227580184\n",
            "Xeqp = 11.004626673096222\n",
            "Rc = 50000\n",
            "Xm = 10000\n",
            "\n",
            "Circuito referenciado pelo lado de baixa tensão\n",
            "Reqs = 0.010994453125000001\n",
            "Xeqs = 0.013193343750000001\n",
            "Rcs = 59.944531250000004\n",
            "Xms = 11.988906250000001\n",
            "      \n",
            "b) Znom2 = 0.7672899999999999 ohms\n",
            "c) RT = 2.1272678156136227%\n",
            "d)\n",
            "Pcobre = 1433.6170157306885 W\n",
            "Pnucleo = 1.6005636915215753 W\n",
            "Psaida = 85000.0 W\n",
            "e) Eficiência n = 98.3395453617%\n"
          ],
          "name": "stdout"
        }
      ]
    },
    {
      "cell_type": "markdown",
      "metadata": {
        "id": "-U6x4IooWnqP"
      },
      "source": [
        "Questão 9 "
      ]
    },
    {
      "cell_type": "code",
      "metadata": {
        "id": "TQzGb3MdWnzw",
        "colab": {
          "base_uri": "https://localhost:8080/"
        },
        "outputId": "c7531d47-77ca-4f97-b917-7389849825bf"
      },
      "source": [
        "from math import sqrt, acos, pi, cos, sin\r\n",
        "from numpy import angle\r\n",
        " \r\n",
        "Req = 0.20 \r\n",
        "Xeq = 0.80\r\n",
        "Rc = 300\r\n",
        "Xm = 100\r\n",
        "a = 0.50\r\n",
        "\r\n",
        "Vs = 282.8/sqrt(2)\r\n",
        "angulo1 = (-36.87)*pi/180\r\n",
        "IsM = 7.07/sqrt(2)\r\n",
        "Is = complex(IsM*cos(angulo1), IsM*sin(angulo1))\r\n",
        "V1 = a*Vs\r\n",
        "I1 = Is/a\r\n",
        "VP = V1 + I1*complex(Req, Xeq)\r\n",
        "\r\n",
        "print(f'''V1 = {V1} V\r\n",
        "I1 = {I1} V\r\n",
        "VP = {VP} V ''')\r\n",
        "\r\n",
        "Iex = VP/Rc + VP/complex(0, Xm)\r\n",
        "Ip = I1 + Iex\r\n",
        "VR = (abs(VP) - a*Vs)/(a*Vs)*100\r\n",
        "Pent = abs(VP) * abs(Ip) * cos(angle(VP)-angle(Ip))\r\n",
        "Psai = abs(Vs) * abs(Is) * cos(angle(Vs)-angle(Is))\r\n",
        "n = Psai/Pent * 100\r\n",
        "\r\n",
        "print(f'''Is = {Is} A\r\n",
        "Iex = {Iex} A\r\n",
        "Ip = {Ip} A\r\n",
        "VR = {VR} V\r\n",
        "Pentrada = {Pent} W\r\n",
        "Psaida = {Psai} W\r\n",
        "n = {n}%''')\r\n",
        "\r\n"
      ],
      "execution_count": 19,
      "outputs": [
        {
          "output_type": "stream",
          "text": [
            "V1 = 99.98489885977781 V\n",
            "I1 = (7.998781191885929-5.999108220755141j) V\n",
            "VP = (106.38394167475911+5.199203309357714j) V \n",
            "Is = (3.9993905959429643-2.9995541103775705j) A\n",
            "Iex = (0.40660517200944085-1.046508739049732j) A\n",
            "Ip = (8.405386363895369-7.045616959804873j) A\n",
            "VR = 6.527000604877927 V\n",
            "Pentrada = 857.5665376765761 W\n",
            "Psaida = 799.7573284722076 W\n",
            "n = 93.2589243324498%\n"
          ],
          "name": "stdout"
        }
      ]
    },
    {
      "cell_type": "markdown",
      "metadata": {
        "id": "RqFViqKDWoCt"
      },
      "source": [
        "Questão 10 "
      ]
    },
    {
      "cell_type": "code",
      "metadata": {
        "id": "345aRHUuWoMj",
        "colab": {
          "base_uri": "https://localhost:8080/"
        },
        "outputId": "246e2890-f1ff-465b-f23e-7e360985e6f0"
      },
      "source": [
        "from math import acos, cos, sin, pi\r\n",
        "\r\n",
        "a = 230/115\r\n",
        "s = 1000\r\n",
        "\r\n",
        "\r\n",
        "# Ensaio a curto-circuito\r\n",
        "pot1 = 38.1\r\n",
        "v1 = 17.1 \r\n",
        "I1 = 8.7 \r\n",
        "\r\n",
        "# Ensaio a vazio\r\n",
        "pot2 = 3.9\r\n",
        "v2 = 115 \r\n",
        "I2 = 0.11\r\n",
        "\r\n",
        "Z1 = v1/I1 \r\n",
        "angulo1 = acos(pot1/(v1*I1))\r\n",
        "Z1 = complex(Z1*cos(angulo1), Z1*sin(angulo1))\r\n",
        "Req = Z1.real/a**2\r\n",
        "Xeq = Z1.imag/a**2\r\n",
        "\r\n",
        "print(f'a)\\nZ1 = {Z1} ohms')\r\n",
        "print(f'Rc1 = {Z1.real} ohms')\r\n",
        "print(f'X1 = {Z1.imag} ohms')\r\n",
        "print(f'''Req = {Req} ohms\r\n",
        "Xeq = {Xeq} ohms\\n''') \r\n",
        "\r\n",
        "Yex2 = I2/v2\r\n",
        "angulo2 = acos(pot2/(v2*I2))\r\n",
        "Yex2 = complex(Yex2*cos(angulo2), -Yex2*sin(angulo2))\r\n",
        "Rc2 = 1/Yex2.real \r\n",
        "X2 = 1/-Yex2.imag\r\n",
        "\r\n",
        "print(f'Yex2 = {Yex2} ohms')\r\n",
        "print(f'''RC = {Rc2} ohms\r\n",
        "XM = {X2} ohms\\n''') \r\n",
        "\r\n",
        "Icarga = s/v2\r\n",
        "angcarga1 = acos(0.8) \r\n",
        "angcarga = -(acos(0.8)*180)/pi \r\n",
        "angcarga2 = ((angcarga+90)*pi)/180 \r\n",
        "Icarga1 = complex(Icarga*cos(-angcarga1), Icarga*sin(-angcarga1))\r\n",
        "Icarga2 = complex(Icarga*cos(angcarga2), Icarga*sin(angcarga2))\r\n",
        "VA = v2 + Req*Icarga1+ Xeq*Icarga2\r\n",
        "RT = (abs(VA) - v2)/v2\r\n",
        "print(f'b)\\nFP = o.8 atrasado -> RT = {RT*100}%\\n')\r\n",
        "\r\n",
        "Icarga = s/v2\r\n",
        "angcarga1 = acos(1) \r\n",
        "angcarga = -(acos(1)*180)/pi \r\n",
        "angcarga2 = ((angcarga+90)*pi)/180 \r\n",
        "Icarga1 = complex(Icarga*cos(-angcarga1), Icarga*sin(-angcarga1))\r\n",
        "Icarga2 = complex(Icarga*cos(angcarga2), Icarga*sin(angcarga2))\r\n",
        "VA = v2 + Req*Icarga1+ Xeq*Icarga2\r\n",
        "RT = (abs(VA) - v2)/v2\r\n",
        "print(f'FP = 1 -> RT = {RT*100}%\\n')\r\n",
        "\r\n",
        "Icarga = s/v2\r\n",
        "angcarga1 = acos(0.8) \r\n",
        "angcarga = (acos(0.8)*180)/pi \r\n",
        "angcarga2 = ((angcarga+90)*pi)/180 \r\n",
        "Icarga1 = complex(Icarga*cos(angcarga1), Icarga*sin(angcarga1))\r\n",
        "Icarga2 = complex(Icarga*cos(angcarga2), Icarga*sin(angcarga2))\r\n",
        "VA = v2 + Req*Icarga1+ Xeq*Icarga2\r\n",
        "RT = (abs(VA) - v2)/v2\r\n",
        "print(f'FP = 0.8 Adiantado -> RT = {RT*100}%\\n')\r\n"
      ],
      "execution_count": 18,
      "outputs": [
        {
          "output_type": "stream",
          "text": [
            "a)\n",
            "Z1 = (0.503369005152596+1.8999678078354438j) ohms\n",
            "Rc1 = 0.503369005152596 ohms\n",
            "X1 = 1.8999678078354438 ohms\n",
            "Req = 0.125842251288149 ohms\n",
            "Xeq = 0.47499195195886096 ohms\n",
            "\n",
            "Yex2 = (0.00029489603024574667-0.0009099286613655003j) ohms\n",
            "RC = 3391.025641025641 ohms\n",
            "XM = 1098.9872530219375 ohms\n",
            "\n",
            "b)\n",
            "FP = o.8 atrasado -> RT = 2.941961762351703%\n",
            "\n",
            "FP = 1 -> RT = 1.0154187847017906%\n",
            "\n",
            "FP = 0.8 Adiantado -> RT = -1.3336008769755259%\n",
            "\n"
          ],
          "name": "stdout"
        }
      ]
    },
    {
      "cell_type": "markdown",
      "metadata": {
        "id": "9jY3jizHWoan"
      },
      "source": [
        "Questão 11 "
      ]
    },
    {
      "cell_type": "code",
      "metadata": {
        "id": "JPyVAGY_WokH",
        "colab": {
          "base_uri": "https://localhost:8080/"
        },
        "outputId": "df7ebac5-eb45-4434-fc7e-49300bf7930d"
      },
      "source": [
        "a = 8000/230\r\n",
        "ZL = complex(2, 0.7) \r\n",
        "Zp = complex(20, 100) \r\n",
        "V1 = 7967 #V\r\n",
        "ZL1 = ZL*a**2 \r\n",
        "Is1 = V1/(Zp + ZL1)\r\n",
        "Vs1 = Is1*ZL1\r\n",
        "V1s = Vs1/a\r\n",
        "RTa = (V1 - abs(Vs1))/abs(Vs1)\r\n",
        "print(f'a) RT = {RTa*100}%')\r\n",
        "\r\n",
        "ZL2 = complex(0, -3)*(a**2)\r\n",
        "Is2 = V1/(Zp + ZL2)\r\n",
        "Vs2 = Is2*ZL2\r\n",
        "V2s = Vs2/a\r\n",
        "RTb = (V1 - abs(Vs2))/abs(Vs2)\r\n",
        "print(f'b) RT = {RTb*100}%')"
      ],
      "execution_count": 17,
      "outputs": [
        {
          "output_type": "stream",
          "text": [
            "a) RT = 2.082427586867843%\n",
            "b) RT = -2.753647095575835%\n"
          ],
          "name": "stdout"
        }
      ]
    },
    {
      "cell_type": "markdown",
      "metadata": {
        "id": "zhZG4XASW6ZI"
      },
      "source": [
        "Questão 12 "
      ]
    },
    {
      "cell_type": "code",
      "metadata": {
        "id": "EMp2tPr4W7EB",
        "colab": {
          "base_uri": "https://localhost:8080/"
        },
        "outputId": "bd3cce33-9686-434e-f587-7eedb7c84a47"
      },
      "source": [
        "from math import acos, cos, sin\r\n",
        "\r\n",
        "a = 230/13800\r\n",
        "s = 5000000\r\n",
        "FP = 0.8\r\n",
        "\r\n",
        "# Ensaio a curto-circuito\r\n",
        "pot1 = 38.1\r\n",
        "v1 = 17.1\r\n",
        "I1 = 8.7\r\n",
        "\r\n",
        "# Ensaio a vazio\r\n",
        "pot2 = 90800 \r\n",
        "v2 = 13800\r\n",
        "I2 = 21.1\r\n",
        "\r\n",
        "Z1 = v2**2/s \r\n",
        "Req = Z1*0.01\r\n",
        "Xeq = Z1*0.05\r\n",
        "\r\n",
        "print(f'a)\\nZ1 = {Z1} ohms')\r\n",
        "print(f'''Req = {Req} ohms\r\n",
        "Xeq = {Xeq} ohms\r\n",
        "''') \r\n",
        "\r\n",
        "Yex2 = I2/v2\r\n",
        "angulo2 = acos(pot2/(v2*I2))\r\n",
        "Yex2 = complex(Yex2*cos(angulo2), -Yex2*sin(angulo2))\r\n",
        "Rc2 = 1/Yex2.real \r\n",
        "X2 = 1/-Yex2.imag\r\n",
        "\r\n",
        "print(f'Yex2 = {Yex2} ohms')\r\n",
        "print(f'''RC = {Rc2} ohms\r\n",
        "XM = {X2} ohms\\n''') \r\n",
        "\r\n",
        "Is = 4000000/(v2*FP)\r\n",
        "Is = complex(Is, -acos(0.8))\r\n",
        "VA = v2 + Is*complex(0.38, 1.9)\r\n",
        "RT = (abs(VA) - v2)/v2\r\n",
        "print(f'b) RT = {RT*100}%\\n')"
      ],
      "execution_count": 15,
      "outputs": [
        {
          "output_type": "stream",
          "text": [
            "a)\n",
            "Z1 = 38.088 ohms\n",
            "Req = 0.38088 ohms\n",
            "Xeq = 1.9044 ohms\n",
            "\n",
            "Yex2 = (0.0004767905902121404-0.0014527447864145374j) ohms\n",
            "RC = 2097.3568281938324 ohms\n",
            "XM = 688.3521519757513 ohms\n",
            "\n",
            "b) RT = 1.129570103794638%\n",
            "\n"
          ],
          "name": "stdout"
        }
      ]
    },
    {
      "cell_type": "markdown",
      "metadata": {
        "id": "YM6cFL67W7OI"
      },
      "source": [
        "Questão 13 "
      ]
    },
    {
      "cell_type": "code",
      "metadata": {
        "id": "CKUwiM-bW7hM",
        "colab": {
          "base_uri": "https://localhost:8080/"
        },
        "outputId": "7ce6d6e1-2a56-420b-ad0d-1e16ae28c96b"
      },
      "source": [
        "Rp = 4 \r\n",
        "Xp = 8\r\n",
        "Rs = 1 \r\n",
        "Xs = 2 \r\n",
        "Rc = 20\r\n",
        "a = 4\r\n",
        "\r\n",
        "Req = Rp + Rs*(a**2)\r\n",
        "print(f'a) Req = {Req} ohms')\r\n",
        "\r\n",
        "Xeq = Xp + Xs*(a**2)\r\n",
        "print(f'b) Xeq = {Xeq} ohms')\r\n",
        "\r\n",
        "Reqp = Rc*(a**2)\r\n",
        "print(f'c) Referenciado ao primário --> Reqp = {Reqp} ohms')\r\n",
        "\r\n",
        "Vg = 50\r\n",
        "Ip = Vg/complex(Req + Reqp, Xeq)\r\n",
        "print(f'd) Corrente no primário para Vg = 50 V --> Ip = {Ip} A')\r\n",
        "\r\n",
        "Vc = a*Ip*Rc\r\n",
        "print(f'e) Tensão para um Vg = 50 V --> Vc = {Vc} V')\r\n",
        "\r\n",
        "\r\n",
        "\r\n",
        "\r\n"
      ],
      "execution_count": null,
      "outputs": [
        {
          "output_type": "stream",
          "text": [
            "a) Req = 20 ohms\n",
            "b) Xeq = 40 ohms\n",
            "c) Referenciado ao primário --> Reqp = 320 ohms\n",
            "d) Corrente no primário para Vg = 50 V --> Ip = (0.14505119453924917-0.017064846416382253j) A\n",
            "e) Tensão para um Vg = 50 V --> Vc = (11.604095563139934-1.3651877133105803j) V\n"
          ],
          "name": "stdout"
        }
      ]
    },
    {
      "cell_type": "markdown",
      "metadata": {
        "id": "Znrx25-hW7oz"
      },
      "source": [
        "Questão 14 "
      ]
    },
    {
      "cell_type": "code",
      "metadata": {
        "id": "WHs349RhW7x2",
        "colab": {
          "base_uri": "https://localhost:8080/"
        },
        "outputId": "533b04b5-9859-44b6-a6b6-284f7a3e9ef1"
      },
      "source": [
        "Rp = 4 \r\n",
        "Xp = 8 \r\n",
        "Rs = 1 \r\n",
        "Xs = 2 \r\n",
        "Rc = 20\r\n",
        "a = 4\r\n",
        "\r\n",
        "Req = Rp + (Rs + Rc)*(a**2)\r\n",
        "Xeq = Xp + Xs*(a**2)\r\n",
        "Zp = complex(Req, Xeq)\r\n",
        "print(f'a) Impedância total é Zp = {Zp}')\r\n",
        "\r\n",
        "Vg = 120 \r\n",
        "Ip = Vg/Zp\r\n",
        "print(f'b) A corrente no primário para Vg = 120 V é Ip = {Ip} A.')\r\n",
        "\r\n",
        "VeqR= Ip * Req\r\n",
        "VeqX = Ip * complex(0, Xeq)\r\n",
        "Vc = Ip*complex(0,20*(a**2))\r\n",
        "\r\n",
        "print(f'''c) As tensões em Req, Xeq e Rc refletido são, respectivamente,\r\n",
        "  {VeqR} V,\r\n",
        "  {VeqX} V\r\n",
        "e {Vc} V''')"
      ],
      "execution_count": 11,
      "outputs": [
        {
          "output_type": "stream",
          "text": [
            "a) Impedância total é Zp = (340+40j)\n",
            "b) A corrente no primário para Vg = 120 V é Ip = (0.34812286689419797-0.040955631399317405j) A.\n",
            "c) As tensões em Req, Xeq e Rc refletido são, respectivamente,\n",
            "  (118.36177474402731-13.924914675767917j) V,\n",
            "  (1.6382252559726962+13.92491467576792j) V\n",
            "e (13.10580204778157+111.39931740614335j) V\n"
          ],
          "name": "stdout"
        }
      ]
    }
  ]
}