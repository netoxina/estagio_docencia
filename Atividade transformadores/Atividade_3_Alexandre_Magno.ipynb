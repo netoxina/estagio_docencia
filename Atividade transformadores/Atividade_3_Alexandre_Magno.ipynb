{
  "nbformat": 4,
  "nbformat_minor": 0,
  "metadata": {
    "colab": {
      "name": "Atividade 3.ipynb",
      "provenance": []
    },
    "kernelspec": {
      "name": "python3",
      "display_name": "Python 3"
    }
  },
  "cells": [
    {
      "cell_type": "markdown",
      "metadata": {
        "id": "K3veDxQNFjFp"
      },
      "source": [
        "**Questão 1:**"
      ]
    },
    {
      "cell_type": "code",
      "metadata": {
        "colab": {
          "base_uri": "https://localhost:8080/"
        },
        "id": "gK_W53QwFZZu",
        "outputId": "33065439-97be-497c-8bb8-787b6b4cdfcc"
      },
      "source": [
        "#Definição das constantes do problema\r\n",
        "V = 120\r\n",
        "Ra = 8 #Resistência alto-falante\r\n",
        "Rta = 500 + 8 #Resistência total do circuito\r\n",
        "Rb = 512\r\n",
        "Rtb = 512 + 512\r\n",
        "\r\n",
        "print('a)')\r\n",
        "Ia = V/Rta\r\n",
        "print(f'I= {Ia} A')\r\n",
        "Pa = (Ia**2)*(Ra)\r\n",
        "print(f'P = {Pa} W')\r\n",
        "\r\n",
        "print('\\nb)')\r\n",
        "Ib = V/Rtb\r\n",
        "print(f'I = {Ib} A')\r\n",
        "Pb = (Ib**2)*(Rb)\r\n",
        "print(f'P = {Pb} W')\r\n",
        "\r\n",
        "print('\\nc)')\r\n",
        "comp = Pb/Pa\r\n",
        "print(f'''Ao comparar os valores, percebe-se que a potência do alto-falante\r\n",
        "ao usar o transformador de casamento de impedâncias é {comp:.2f} vezes maior\r\n",
        "do que sem usar o transformador.''')"
      ],
      "execution_count": null,
      "outputs": [
        {
          "output_type": "stream",
          "text": [
            "a)\n",
            "I= 0.23622047244094488 A\n",
            "P = 0.4464008928017856 W\n",
            "\n",
            "b)\n",
            "I = 0.1171875 A\n",
            "P = 7.03125 W\n",
            "\n",
            "c)\n",
            "É 15.75 vezes maior\n"
          ],
          "name": "stdout"
        }
      ]
    },
    {
      "cell_type": "markdown",
      "metadata": {
        "id": "ywU-aamjLo3Q"
      },
      "source": [
        "**Questão 2:**"
      ]
    },
    {
      "cell_type": "code",
      "metadata": {
        "colab": {
          "base_uri": "https://localhost:8080/"
        },
        "id": "vCf6ScvLLr53",
        "outputId": "0b5a9b13-3dc1-43dc-909b-04d289943357"
      },
      "source": [
        "from math import sqrt\r\n",
        "\r\n",
        "Palto = 10 #W\r\n",
        "Zalto = 8\r\n",
        "V = 70.7\r\n",
        "\r\n",
        "\r\n",
        "print('a)')\r\n",
        "print(f'Ptot= {Palto*4} W')\r\n",
        "\r\n",
        "print('\\nb)')\r\n",
        "I = Palto/V\r\n",
        "Z = V/I\r\n",
        "print(f'Z = {Z:.0f} ohms')\r\n",
        "\r\n",
        "print('\\nc)')\r\n",
        "a = sqrt(Z/Zalto)\r\n",
        "print(f'Sendo a = {a:.2f} a relação de espiras é 8:1 ')\r\n",
        "\r\n",
        "print('\\nd)')\r\n",
        "Valto = V/a\r\n",
        "print(f'Valto = {Valto:.0f} V')\r\n",
        "\r\n",
        "print('\\ne)')\r\n",
        "print(f''' Para um alto-falante ligado: R = {Z:.0f} ohms\r\n",
        "Para quatro alto-falantes ligados: R = {(Z/4):.0f} ohms''')\r\n"
      ],
      "execution_count": null,
      "outputs": [
        {
          "output_type": "stream",
          "text": [
            "a)\n",
            "Ptot= 40 W\n",
            "\n",
            "b)\n",
            "Z = 500 ohms\n",
            "\n",
            "c)\n",
            "Sendo a = 7.90 a relação de espiras é 8:1 \n",
            "\n",
            "d)\n",
            "Valto = 9 V\n",
            "\n",
            "e)\n",
            " Para um alto-falante ligado: R = 500 ohms\n",
            "Para quatro alto-falantes ligados: R = 125 ohms\n"
          ],
          "name": "stdout"
        }
      ]
    },
    {
      "cell_type": "markdown",
      "metadata": {
        "id": "gXLPxSfJ2UHi"
      },
      "source": [
        "**Questão 3:**"
      ]
    },
    {
      "cell_type": "code",
      "metadata": {
        "colab": {
          "base_uri": "https://localhost:8080/"
        },
        "id": "HaeEFA4F2Zx7",
        "outputId": "376979b6-7620-496e-8f78-9fd14cfb8cd0"
      },
      "source": [
        "from math import sqrt\r\n",
        "\r\n",
        "Ip = 2 #A\r\n",
        "Zc = 2 #ohm\r\n",
        "a = 1/5\r\n",
        "\r\n",
        "print('a)')\r\n",
        "Ic = a * Ip\r\n",
        "print(f'Ic = {Ic} A')\r\n",
        "Vc = Zc*Ic\r\n",
        "print(f'Vc = {Vc} V')\r\n",
        "\r\n",
        "print('\\nb)')\r\n",
        "Zp = (a**2)*Zc\r\n",
        "print(f'Zp = {Zp:.2f} ohms')"
      ],
      "execution_count": null,
      "outputs": [
        {
          "output_type": "stream",
          "text": [
            "a)\n",
            "Ic = 0.4 A\n",
            "Vc = 0.8 V\n",
            "\n",
            "b)\n",
            "Zp = 0.08 ohms\n"
          ],
          "name": "stdout"
        }
      ]
    },
    {
      "cell_type": "markdown",
      "metadata": {
        "id": "jExTJTj5-tWC"
      },
      "source": [
        "**Questão 4**"
      ]
    },
    {
      "cell_type": "code",
      "metadata": {
        "id": "xdOP-vXk-zFp",
        "colab": {
          "base_uri": "https://localhost:8080/"
        },
        "outputId": "2c30679d-3e1b-4c59-cb33-639c85a5cabc"
      },
      "source": [
        "from math import acos, cos, sin, pi\r\n",
        "\r\n",
        "#Dados do problema:\r\n",
        "a = 4800/240\r\n",
        "s = 10000\r\n",
        "Inom = s/4800\r\n",
        "FP = 1 \r\n",
        "\r\n",
        "#Constante do ensaio em curto-circuito\r\n",
        "pot1 = 180 #W\r\n",
        "v1 = 180 #V\r\n",
        "\r\n",
        "\r\n",
        "#Constantes do ensaio a vazio\r\n",
        "pot2 = 60 #W\r\n",
        "v2 = 240 #V\r\n",
        "I2 = 1.5 # A\r\n",
        "\r\n",
        "print('a)')\r\n",
        "#Cálculos circuito equivalente primário (Curto-Circuito)\r\n",
        "print('#Lado primário (Curto-Circuito)')\r\n",
        "Z1 = v1/Inom #Parte absoluta\r\n",
        "angulo1 = acos(pot1/(v1*Inom))\r\n",
        "Z1 = complex(Z1*cos(angulo1), Z1*sin(angulo1))\r\n",
        "Req = Z1.real/a**2\r\n",
        "Xeq = Z1.imag/a**2\r\n",
        "\r\n",
        "print(f'Z1 = {Z1} ohms')\r\n",
        "print(f'Rc1 = {Z1.real} ohms')\r\n",
        "print(f'X1 = {Z1.imag} ohms')\r\n",
        "print(f'''Req = {Req} ohms\r\n",
        "Xeq = {Xeq} ohms\\n''') \r\n",
        "\r\n",
        "#Cálculos circuito equivalente secundário (Vazio)\r\n",
        "print('#Lado secundário (Vazio)')\r\n",
        "Yex2 = I2/v2 #Parte absoluta\r\n",
        "angulo2 = acos(pot2/(v2*I2))\r\n",
        "Yex2 = complex(Yex2*cos(angulo2), -Yex2*sin(angulo2))\r\n",
        "Rc2 = 1/Yex2.real \r\n",
        "X2 = 1/-Yex2.imag\r\n",
        "\r\n",
        "\r\n",
        "print(f'Yex2 = {Yex2} ohms')\r\n",
        "print(f'''RC = {Rc2} ohms\r\n",
        "XM = {X2} ohms\\n''') \r\n",
        "\r\n",
        "print('b)')\r\n",
        "Icarga = s/v2\r\n",
        "angcarga1 = acos(FP) #rad\r\n",
        "angcarga = -(acos(FP)*180)/pi #graus\r\n",
        "angcarga2 = ((angcarga+90)*pi)/180 #rad\r\n",
        "Icarga1 = complex(Icarga*cos(-angcarga1), Icarga*sin(-angcarga1))\r\n",
        "Icarga2 = complex(Icarga*cos(angcarga2), Icarga*sin(angcarga2))\r\n",
        "VA = v2 + Req*Icarga1+ Xeq*Icarga2\r\n",
        "RT = (abs(VA) - v2)/v2\r\n",
        "print(f'RT = {RT*100}%')"
      ],
      "execution_count": null,
      "outputs": [
        {
          "output_type": "stream",
          "text": [
            "a)\n",
            "#Lado primário (Curto-Circuito)\n",
            "Z1 = (41.472+75.79599736133828j) ohms\n",
            "Rc1 = 41.472 ohms\n",
            "X1 = 75.79599736133828 ohms\n",
            "Req = 0.10368000000000001 ohms\n",
            "Xeq = 0.1894899934033457 ohms\n",
            "\n",
            "#Lado secundário (Vazio)\n",
            "Yex2 = (0.0010416666666666669-0.006162583107395434j) ohms\n",
            "RC = 959.9999999999998 ohms\n",
            "XM = 162.26961690787516 ohms\n",
            "\n",
            "b)\n",
            "RT = 1.8531418268479292%\n"
          ],
          "name": "stdout"
        }
      ]
    },
    {
      "cell_type": "markdown",
      "metadata": {
        "id": "UNn_O2u8AIyz"
      },
      "source": [
        "**Questão 5** "
      ]
    },
    {
      "cell_type": "code",
      "metadata": {
        "id": "shSE5C9DAKu0",
        "colab": {
          "base_uri": "https://localhost:8080/"
        },
        "outputId": "34963cf0-0c9a-43c9-813f-46143b13717d"
      },
      "source": [
        "from math import acos, cos, sin, pi\r\n",
        "\r\n",
        "#Dados do problema:\r\n",
        "a = 12000/240\r\n",
        "s = 100000\r\n",
        "Inom = s/12000 \r\n",
        "FP = 0.8\r\n",
        "\r\n",
        "#Constante do ensaio em curto-circuito\r\n",
        "pot1 = 1200 #W\r\n",
        "v1 = 600 #V\r\n",
        "\r\n",
        "#Constantes do ensaio a vazio\r\n",
        "pot2 = 60 #W\r\n",
        "v2 = 240 #V\r\n",
        "I2 = 1.5 # A\r\n",
        "\r\n",
        "\r\n",
        "print('a)')\r\n",
        "#Cálculos circuito equivalente primário (Curto-Circuito)\r\n",
        "print('#Lado primário (Curto-Circuito)')\r\n",
        "Z1 = v1/Inom #Parte absoluta\r\n",
        "angulo1 = acos(pot1/(v1*Inom))\r\n",
        "Z1 = complex(Z1*cos(angulo1), Z1*sin(angulo1))\r\n",
        "Req = Z1.real/a**2\r\n",
        "Xeq = Z1.imag/a**2\r\n",
        "\r\n",
        "print(f'Z1 = {Z1} ohms')\r\n",
        "print(f'Rc1 = {Z1.real} ohms')\r\n",
        "print(f'X1 = {Z1.imag} ohms')\r\n",
        "print(f'''Req = {Req} ohms\r\n",
        "Xeq = {Xeq} ohms\\n''') \r\n",
        "\r\n",
        "#Cálculos circuito equivalente secundário (Vazio)\r\n",
        "print('#Lado secundário (Vazio)')\r\n",
        "Yex2 = I2/v2 #Parte absoluta\r\n",
        "angulo2 = acos(pot2/(v2*I2))\r\n",
        "Yex2 = complex(Yex2*cos(angulo2), -Yex2*sin(angulo2))\r\n",
        "Rc2 = 1/Yex2.real \r\n",
        "X2 = 1/-Yex2.imag\r\n",
        "\r\n",
        "print(f'Yex2 = {Yex2} ohms')\r\n",
        "print(f'''RC = {Rc2} ohms\r\n",
        "XM = {X2} ohms\\n''') \r\n",
        "\r\n",
        "print('b)')\r\n",
        "Icarga = s/v2\r\n",
        "angcarga1 = acos(FP) #rad\r\n",
        "angcarga = -(acos(FP)*180)/pi #graus\r\n",
        "angcarga2 = ((angcarga+90)*pi)/180 #rad\r\n",
        "Icarga1 = complex(Icarga*cos(-angcarga1), Icarga*sin(-angcarga1))\r\n",
        "Icarga2 = complex(Icarga*cos(angcarga2), Icarga*sin(angcarga2))\r\n",
        "VA = v2 + Req*Icarga1+ Xeq*Icarga2\r\n",
        "RT = (abs(VA) - v2)/v2\r\n",
        "print(f'RT = {RT*100}%')"
      ],
      "execution_count": null,
      "outputs": [
        {
          "output_type": "stream",
          "text": [
            "a)\n",
            "#Lado primário (Curto-Circuito)\n",
            "Z1 = (17.280000000000005+69.8956479331868j) ohms\n",
            "Rc1 = 17.280000000000005 ohms\n",
            "X1 = 69.8956479331868 ohms\n",
            "Req = 0.0069120000000000015 ohms\n",
            "Xeq = 0.027958259173274717 ohms\n",
            "\n",
            "#Lado secundário (Vazio)\n",
            "Yex2 = (0.0010416666666666669-0.006162583107395434j) ohms\n",
            "RC = 959.9999999999998 ohms\n",
            "XM = 162.26961690787516 ohms\n",
            "\n",
            "b)\n",
            "RT = 3.920468305221559%\n"
          ],
          "name": "stdout"
        }
      ]
    },
    {
      "cell_type": "markdown",
      "metadata": {
        "id": "VSC9W3VwTiss"
      },
      "source": [
        "**Questão 6**"
      ]
    },
    {
      "cell_type": "code",
      "metadata": {
        "colab": {
          "base_uri": "https://localhost:8080/"
        },
        "id": "OZutEuSvTh-J",
        "outputId": "638e21de-d81a-47a9-d4ed-0ef11afc8d74"
      },
      "source": [
        "from math import sqrt\r\n",
        "from numpy import degrees, angle\r\n",
        "#Dados da questão\r\n",
        "\r\n",
        "a = 2400/240\r\n",
        "s = 25000\r\n",
        "FP = 0.15\r\n",
        "\r\n",
        "#Baixa tensão\r\n",
        "Pb = 254 #W -- potência ativa\r\n",
        "Vb = 240 #V\r\n",
        "\r\n",
        "RCb = (Vb**2)/Pb\r\n",
        "\r\n",
        "S = Pb/FP #W -- potência aparente\r\n",
        "Qb = sqrt(S**2 - Pb**2)\r\n",
        "\r\n",
        "XMb = (Vb**2)/Qb\r\n",
        "\r\n",
        "#Alta Tensão\r\n",
        "RCa = complex(RCb * (a**2), 0)\r\n",
        "XMa = complex(0, XMb * (a**2))\r\n",
        "\r\n",
        "\r\n",
        "Zeqa1 = (RCa * XMa)/(RCa + XMa) \r\n",
        "Iv1 = 2400/Zeqa1 #A -- corrente de vazio \r\n",
        "print(f'''Corrente de baixa tensão \r\n",
        "Iv = {Iv1} A''')\r\n",
        "#print(abs(Iv1))\r\n",
        "#print(degrees(angle(Iv1)))\r\n"
      ],
      "execution_count": null,
      "outputs": [
        {
          "output_type": "stream",
          "text": [
            "Corrente de baixa tensão \n",
            "Iv = (0.10583333333333332-0.6975728976464499j) A\n"
          ],
          "name": "stdout"
        }
      ]
    },
    {
      "cell_type": "markdown",
      "metadata": {
        "id": "u1HNtE08Wlp6"
      },
      "source": [
        "**Questão 7** "
      ]
    },
    {
      "cell_type": "code",
      "metadata": {
        "id": "J2EZ8cn7WmK8",
        "colab": {
          "base_uri": "https://localhost:8080/"
        },
        "outputId": "0483455d-f400-46c1-fe2c-d6388dbda7a6"
      },
      "source": [
        "from math import acos, cos, sin, pi\r\n",
        "\r\n",
        "#Dados do problema:\r\n",
        "a = 24200/220\r\n",
        "s = 250000\r\n",
        " \r\n",
        "FP = 0.92\r\n",
        "\r\n",
        "#Constante do ensaio em curto-circuito\r\n",
        "pot1 = 1700 #W\r\n",
        "v1 = 600 #V\r\n",
        "Inom = s/24200 * 0.85\r\n",
        "\r\n",
        "#Constantes do ensaio a vazio\r\n",
        "pot2 = 1200 #W\r\n",
        "I2 = 16 # A\r\n",
        "Vnom = 220 * 0.85#V\r\n",
        "\r\n",
        "print('a)')\r\n",
        "#Cálculos circuito equivalente primário (Curto-Circuito)\r\n",
        "print('#Lado primário (Curto-Circuito)')\r\n",
        "Z1 = v1/Inom #Parte absoluta\r\n",
        "angulo1 = acos(pot1/(v1*Inom))\r\n",
        "Z1 = complex(Z1*cos(angulo1), Z1*sin(angulo1))\r\n",
        "Req = Z1.real/a**2\r\n",
        "Xeq = Z1.imag/a**2\r\n",
        "\r\n",
        "print(f'Z1 = {Z1} ohms')\r\n",
        "print(f'Rc1 = {Z1.real} ohms')\r\n",
        "print(f'X1 = {Z1.imag} ohms')\r\n",
        "print(f'''Req = {Req} ohms\r\n",
        "Xeq = {Xeq} ohms\\n''') \r\n",
        "\r\n",
        "#Cálculos circuito equivalente secundário (Vazio)\r\n",
        "print('#Lado secundário (Vazio)')\r\n",
        "Yex2 = I2/Vnom #Parte absoluta\r\n",
        "angulo2 = acos(pot2/(Vnom*I2))\r\n",
        "Yex2 = complex(Yex2*cos(angulo2), -Yex2*sin(angulo2))\r\n",
        "Rc2 = 1/Yex2.real \r\n",
        "X2 = 1/-Yex2.imag \r\n",
        "\r\n",
        "print(f'Yex2 = {Yex2} ohms')\r\n",
        "print(f'''RC = {Rc2} ohms\r\n",
        "XM = {X2} ohms\\n''') \r\n",
        "\r\n",
        "print('b)')\r\n",
        "Icarga = s/Vnom\r\n",
        "angcarga1 = acos(FP) #rad\r\n",
        "angcarga = -(acos(FP)*180)/pi #graus\r\n",
        "angcarga2 = ((angcarga+90)*pi)/180 #rad\r\n",
        "Icarga1 = complex(Icarga*cos(-angcarga1), Icarga*sin(-angcarga1))\r\n",
        "Icarga2 = complex(Icarga*cos(angcarga2), Icarga*sin(angcarga2))\r\n",
        "VA = Vnom + Req*Icarga1+ Xeq*Icarga2\r\n",
        "RT = (abs(VA) - Vnom)/Vnom\r\n",
        "print(f'RT = {RT*100}%')"
      ],
      "execution_count": null,
      "outputs": [
        {
          "output_type": "stream",
          "text": [
            "a)\n",
            "#Lado primário (Curto-Circuito)\n",
            "Z1 = (22.047623529411773+64.67465352683426j) ohms\n",
            "Rc1 = 22.047623529411773 ohms\n",
            "X1 = 64.67465352683426 ohms\n",
            "Req = 0.001822117647058824 ohms\n",
            "Xeq = 0.005345012688168121 ohms\n",
            "\n",
            "#Lado secundário (Vazio)\n",
            "Yex2 = (0.03431610855329006-0.07837840594488185j) ohms\n",
            "RC = 29.140833333333333 ohms\n",
            "XM = 12.758616202315103 ohms\n",
            "\n",
            "b)\n",
            "RT = 2.74002714437874%\n"
          ],
          "name": "stdout"
        }
      ]
    },
    {
      "cell_type": "markdown",
      "metadata": {
        "id": "g_F3qdRNWnOj"
      },
      "source": [
        "**Questão 8** "
      ]
    },
    {
      "cell_type": "code",
      "metadata": {
        "id": "atUcUxbbWnbP",
        "colab": {
          "base_uri": "https://localhost:8080/"
        },
        "outputId": "69153ccd-6a6b-47e1-d8ec-0cc26c93c798"
      },
      "source": [
        "from math import acos, cos, sin, pi\r\n",
        "\r\n",
        "#Dados do problema:\r\n",
        "v2 = 277\r\n",
        "a = 8000/v2\r\n",
        "s = 100000\r\n",
        "\r\n",
        "\r\n",
        "#Constantes do lado de alta tensão\r\n",
        "Rc = 50000\r\n",
        "Xm = 10000\r\n",
        "Inom1 = s/8000\r\n",
        "\r\n",
        "#Constantes do lado de baixa tensão\r\n",
        "Rp = 5 #ohms\r\n",
        "Xp = 6 #ohms\r\n",
        "Inom2 = s/v2\r\n",
        "\r\n",
        "print('a)')\r\n",
        "\r\n",
        "#Cálculos do lado de baixa tensão \r\n",
        "print('#Lado de baixa tensão')\r\n",
        "Rp1 = Rp/a**2\r\n",
        "Xp1 = Xp/a**2\r\n",
        "print(f'''Rp1 = {Rp1} ohms\r\n",
        "Xeq = {Xp1} ohms''') \r\n",
        "\r\n",
        "#Cálculos do lado de alta tensão \r\n",
        "print('#Lado de alta tensão')\r\n",
        "Rc1 = Rc/a**2 \r\n",
        "Xm1 = Xm/a**2\r\n",
        "print(f'''Rc1 = {Rc1} ohms\r\n",
        "Xm1 = {Xm1} ohms\\n''') \r\n",
        "\r\n",
        "print('\\nb)')\r\n",
        "Znom2 = v2/Inom2\r\n",
        "print(f'Znom2 = {Znom2} ohms')\r\n",
        "\r\n",
        "print('\\nc)')\r\n",
        "FP = 0.85\r\n",
        "Is = complex(Inom2*FP, - Inom2 * sin(acos(FP)))\r\n",
        "#print(abs(Is))\r\n",
        "#print(degrees(angle(Is)))\r\n",
        "\r\n",
        "#Versão simplificada do sistema equivalente em relação\r\n",
        "#à parte lado secundário do sistema\r\n",
        "VA = v2 + complex(0.011, 0.0132)*Is\r\n",
        "#print(abs(VA))\r\n",
        "#print(degrees(angle(VA)))\r\n",
        "\r\n",
        "RT = (abs(VA) - v2)/v2\r\n",
        "print(f'RT = {RT*100}%')\r\n",
        "\r\n",
        "print('\\nd)')\r\n",
        "Psaida = s*FP\r\n",
        "Pcobre = 0.011*(Inom2**2)\r\n",
        "Pnucleo = (abs(VA)**2)/Rc\r\n",
        "print(f'''Pcobre = {Pcobre} W\r\n",
        "Pnucleo = {Pnucleo} W\r\n",
        "Psaida = {Psaida} W''')\r\n",
        "\r\n",
        "print('\\ne)')\r\n",
        "n = (Psaida)/(Psaida+Pcobre+Pnucleo)\r\n",
        "print(f'Eficiência n = {n*100}%')"
      ],
      "execution_count": null,
      "outputs": [
        {
          "output_type": "stream",
          "text": [
            "a)\n",
            "#Lado de baixa tensão\n",
            "Rp1 = 0.005994453125 ohms\n",
            "Xeq = 0.007193343750000001 ohms\n",
            "#Lado de alta tensão\n",
            "Rc1 = 59.944531250000004 ohms\n",
            "Xm1 = 11.988906250000001 ohms\n",
            "\n",
            "\n",
            "b)\n",
            "Znom2 = 0.7672899999999999 ohms\n",
            "\n",
            "c)\n",
            "RT = 2.1272678156136227%\n",
            "\n",
            "d)\n",
            "Pcobre = 1433.6170157306885 W\n",
            "Pnucleo = 1.6005636915215753 W\n",
            "Psaida = 85000.0 W\n",
            "\n",
            "e)\n",
            "Eficiência n = 98.3395453617%\n"
          ],
          "name": "stdout"
        }
      ]
    },
    {
      "cell_type": "markdown",
      "metadata": {
        "id": "-U6x4IooWnqP"
      },
      "source": [
        "**Questão 9** "
      ]
    },
    {
      "cell_type": "code",
      "metadata": {
        "id": "TQzGb3MdWnzw",
        "colab": {
          "base_uri": "https://localhost:8080/"
        },
        "outputId": "ec6fdfbe-14ae-4969-8775-80108480cb6a"
      },
      "source": [
        "from math import sqrt, acos, pi, cos, sin\r\n",
        "from numpy import angle, degrees\r\n",
        "\r\n",
        "#Dados dos problema \r\n",
        "Req = 0.20 \r\n",
        "Xeq = 0.80\r\n",
        "a = 0.50\r\n",
        "\r\n",
        "\r\n",
        "Rc = 300\r\n",
        "Xm = 100\r\n",
        "\r\n",
        "\r\n",
        "Vs = 282.8/sqrt(2)\r\n",
        "angulo1 = (-36.87)*pi/180\r\n",
        "IsM = 7.07/sqrt(2)\r\n",
        "Is = complex(IsM*cos(angulo1), IsM*sin(angulo1))\r\n",
        "\r\n",
        "\r\n",
        "#Cálculos do lado primário \r\n",
        "V1 = a*Vs\r\n",
        "I1 = Is/a\r\n",
        "VP = V1 + I1*complex(Req, Xeq)\r\n",
        "\r\n",
        "print(f'''V1 = {V1} V\r\n",
        "I1 = {I1} V\r\n",
        "VP = {VP} V ''')\r\n",
        "\r\n",
        "Iex = VP/Rc + VP/complex(0, Xm)\r\n",
        "#print(abs(Iex))\r\n",
        "#print(degrees(angle(Iex)))\r\n",
        "\r\n",
        "Ip = I1 + Iex\r\n",
        "VR = (abs(VP) - a*Vs)/(a*Vs)*100\r\n",
        "\r\n",
        "Pent = abs(VP) * abs(Ip) * cos(angle(VP)-angle(Ip))\r\n",
        "#print(degrees(angle(VP)-angle(Ip)))\r\n",
        "Psai = abs(Vs) * abs(Is) * cos(angle(Vs)-angle(Is))\r\n",
        "\r\n",
        "n = Psai/Pent * 100\r\n",
        "\r\n",
        "print(f'''Is = {Is} A\r\n",
        "Iex = {Iex} A\r\n",
        "Ip = {Ip} A\r\n",
        "VR = {VR} V\r\n",
        "Pentrada = {Pent} W\r\n",
        "Psaida = {Psai} W\r\n",
        "n = {n}%''')\r\n",
        "\r\n"
      ],
      "execution_count": null,
      "outputs": [
        {
          "output_type": "stream",
          "text": [
            "V1 = 99.98489885977781 V\n",
            "I1 = (7.998781191885929-5.999108220755141j) V\n",
            "VP = (106.38394167475911+5.199203309357714j) V \n",
            "Is = (3.9993905959429643-2.9995541103775705j) A\n",
            "Iex = (0.40660517200944085-1.046508739049732j) A\n",
            "Ip = (8.405386363895369-7.045616959804873j) A\n",
            "VR = 6.527000604877927 V\n",
            "Pentrada = 857.5665376765761 W\n",
            "Psaida = 799.7573284722076 W\n",
            "n = 93.2589243324498%\n"
          ],
          "name": "stdout"
        }
      ]
    },
    {
      "cell_type": "markdown",
      "metadata": {
        "id": "RqFViqKDWoCt"
      },
      "source": [
        "**Questão 10** "
      ]
    },
    {
      "cell_type": "code",
      "metadata": {
        "id": "345aRHUuWoMj",
        "colab": {
          "base_uri": "https://localhost:8080/"
        },
        "outputId": "972887ad-cb31-4308-b194-3237c0bb83cd"
      },
      "source": [
        "from math import acos, cos, sin, pi\r\n",
        "\r\n",
        "#Dados do problema:\r\n",
        "a = 230/115\r\n",
        "s = 1000\r\n",
        "\r\n",
        "\r\n",
        "#Constante do ensaio em curto-circuito\r\n",
        "pot1 = 38.1 #W\r\n",
        "v1 = 17.1 #V\r\n",
        "I1 = 8.7 #A\r\n",
        "\r\n",
        "#Constantes do ensaio a vazio\r\n",
        "pot2 = 3.9 #W\r\n",
        "v2 = 115 #V\r\n",
        "I2 = 0.11 # A\r\n",
        "\r\n",
        "\r\n",
        "print('a)')\r\n",
        "#Cálculos circuito equivalente primário (Curto-Circuito)\r\n",
        "print('#Lado primário (Curto-Circuito)')\r\n",
        "Z1 = v1/I1 #Parte absoluta\r\n",
        "angulo1 = acos(pot1/(v1*I1))\r\n",
        "Z1 = complex(Z1*cos(angulo1), Z1*sin(angulo1))\r\n",
        "Req = Z1.real/a**2\r\n",
        "Xeq = Z1.imag/a**2\r\n",
        "\r\n",
        "print(f'Z1 = {Z1} ohms')\r\n",
        "print(f'Rc1 = {Z1.real} ohms')\r\n",
        "print(f'X1 = {Z1.imag} ohms')\r\n",
        "print(f'''Req = {Req} ohms\r\n",
        "Xeq = {Xeq} ohms\\n''') \r\n",
        "\r\n",
        "#Cálculos circuito equivalente secundário (Vazio)\r\n",
        "print('#Lado secundário (Vazio)')\r\n",
        "Yex2 = I2/v2 #Parte absoluta\r\n",
        "angulo2 = acos(pot2/(v2*I2))\r\n",
        "Yex2 = complex(Yex2*cos(angulo2), -Yex2*sin(angulo2))\r\n",
        "Rc2 = 1/Yex2.real \r\n",
        "X2 = 1/-Yex2.imag\r\n",
        "\r\n",
        "print(f'Yex2 = {Yex2} ohms')\r\n",
        "print(f'''RC = {Rc2} ohms\r\n",
        "XM = {X2} ohms\\n''') \r\n",
        "\r\n",
        "print('b)')\r\n",
        "\r\n",
        "print(f'FP = 0.8 (Atrasado):')\r\n",
        "Icarga = s/v2\r\n",
        "angcarga1 = acos(0.8) #rad\r\n",
        "angcarga = -(acos(0.8)*180)/pi #graus\r\n",
        "angcarga2 = ((angcarga+90)*pi)/180 #rad\r\n",
        "Icarga1 = complex(Icarga*cos(-angcarga1), Icarga*sin(-angcarga1))\r\n",
        "Icarga2 = complex(Icarga*cos(angcarga2), Icarga*sin(angcarga2))\r\n",
        "VA = v2 + Req*Icarga1+ Xeq*Icarga2\r\n",
        "RT = (abs(VA) - v2)/v2\r\n",
        "print(f'RT = {RT*100}%\\n')\r\n",
        "\r\n",
        "print(f'FP = 1:')\r\n",
        "Icarga = s/v2\r\n",
        "angcarga1 = acos(1) #rad\r\n",
        "angcarga = -(acos(1)*180)/pi #graus\r\n",
        "angcarga2 = ((angcarga+90)*pi)/180 #rad\r\n",
        "Icarga1 = complex(Icarga*cos(-angcarga1), Icarga*sin(-angcarga1))\r\n",
        "Icarga2 = complex(Icarga*cos(angcarga2), Icarga*sin(angcarga2))\r\n",
        "VA = v2 + Req*Icarga1+ Xeq*Icarga2\r\n",
        "RT = (abs(VA) - v2)/v2\r\n",
        "print(f'RT = {RT*100}%\\n')\r\n",
        "\r\n",
        "print(f'FP = 0.8 (Adiantado):')\r\n",
        "Icarga = s/v2\r\n",
        "angcarga1 = acos(0.8) #rad\r\n",
        "angcarga = (acos(0.8)*180)/pi #graus\r\n",
        "angcarga2 = ((angcarga+90)*pi)/180 #rad\r\n",
        "Icarga1 = complex(Icarga*cos(angcarga1), Icarga*sin(angcarga1))\r\n",
        "Icarga2 = complex(Icarga*cos(angcarga2), Icarga*sin(angcarga2))\r\n",
        "VA = v2 + Req*Icarga1+ Xeq*Icarga2\r\n",
        "RT = (abs(VA) - v2)/v2\r\n",
        "print(f'RT = {RT*100}%\\n')\r\n"
      ],
      "execution_count": null,
      "outputs": [
        {
          "output_type": "stream",
          "text": [
            "a)\n",
            "#Lado primário (Curto-Circuito)\n",
            "Z1 = (0.503369005152596+1.8999678078354438j) ohms\n",
            "Rc1 = 0.503369005152596 ohms\n",
            "X1 = 1.8999678078354438 ohms\n",
            "Req = 0.125842251288149 ohms\n",
            "Xeq = 0.47499195195886096 ohms\n",
            "\n",
            "#Lado secundário (Vazio)\n",
            "Yex2 = (0.00029489603024574667-0.0009099286613655003j) ohms\n",
            "RC = 3391.025641025641 ohms\n",
            "XM = 1098.9872530219375 ohms\n",
            "\n",
            "b)\n",
            "FP = 0.8 (Atrasado):\n",
            "RT = 2.941961762351703%\n",
            "\n",
            "FP = 1:\n",
            "RT = 1.0154187847017906%\n",
            "\n",
            "FP = 0.8 (Adiantado):\n",
            "RT = -1.3336008769755259%\n",
            "\n"
          ],
          "name": "stdout"
        }
      ]
    },
    {
      "cell_type": "markdown",
      "metadata": {
        "id": "9jY3jizHWoan"
      },
      "source": [
        "**Questão 11** "
      ]
    },
    {
      "cell_type": "code",
      "metadata": {
        "id": "JPyVAGY_WokH",
        "colab": {
          "base_uri": "https://localhost:8080/"
        },
        "outputId": "540b92b6-e74c-4b34-bdc8-78dffc99359a"
      },
      "source": [
        "from math import acos, sin, cos, pi\r\n",
        "from numpy import degrees, angle\r\n",
        "\r\n",
        "#Dados do problema\r\n",
        "a = 8000/230\r\n",
        "ZL = complex(2, 0.7) #Ohms\r\n",
        "#Dados do lado primário\r\n",
        "Zp = complex(20, 100) \r\n",
        "V1 = 7967 #V\r\n",
        "\r\n",
        "\r\n",
        "print('a)')\r\n",
        "ZL1 = ZL*a**2 \r\n",
        "Is1 = V1/(Zp + ZL1)\r\n",
        "#print(abs(Is1))\r\n",
        "#print(degrees(angle(Is1)))\r\n",
        "\r\n",
        "Vs1 = Is1*ZL1\r\n",
        "#print(abs(Vs1))\r\n",
        "#print(degrees(angle(Vs1)))\r\n",
        "V1s = Vs1/a\r\n",
        "\r\n",
        "RTa = (V1 - abs(Vs1))/abs(Vs1)\r\n",
        "print(f'RT = {RTa*100}%')\r\n",
        "\r\n",
        "print('b)')\r\n",
        "ZL2 = complex(0, -3)*(a**2)\r\n",
        "Is2 = V1/(Zp + ZL2)\r\n",
        "#print(abs(Is2))\r\n",
        "#print(degrees(angle(Is2)))\r\n",
        "\r\n",
        "Vs2 = Is2*ZL2\r\n",
        "#print(abs(Vs2))\r\n",
        "#print(degrees(angle(Vs2)))\r\n",
        "V2s = Vs2/a\r\n",
        "RTb = (V1 - abs(Vs2))/abs(Vs2)\r\n",
        "print(f'RT = {RTb*100}%')"
      ],
      "execution_count": null,
      "outputs": [
        {
          "output_type": "stream",
          "text": [
            "a)\n",
            "RT = 2.082427586867843%\n",
            "b)\n",
            "RT = -2.753647095575835%\n"
          ],
          "name": "stdout"
        }
      ]
    },
    {
      "cell_type": "markdown",
      "metadata": {
        "id": "zhZG4XASW6ZI"
      },
      "source": [
        "**Questão 12** "
      ]
    },
    {
      "cell_type": "code",
      "metadata": {
        "id": "EMp2tPr4W7EB",
        "colab": {
          "base_uri": "https://localhost:8080/"
        },
        "outputId": "04ba0ca2-27cb-4493-b1a8-c23cbbb0d032"
      },
      "source": [
        "from math import acos, cos, sin, pi\r\n",
        "from numpy import degrees, angle\r\n",
        "\r\n",
        "#Dados do problema:\r\n",
        "a = 230/13800\r\n",
        "s = 5000000\r\n",
        "FP = 0.8\r\n",
        "\r\n",
        "\r\n",
        "#Constante do ensaio em curto-circuito\r\n",
        "pot1 = 38.1 #W\r\n",
        "v1 = 17.1 #V\r\n",
        "I1 = 8.7 #A\r\n",
        "\r\n",
        "#Constantes do ensaio a vazio\r\n",
        "pot2 = 90800 #W\r\n",
        "v2 = 13800 #V\r\n",
        "I2 = 21.1 # A\r\n",
        "\r\n",
        "print('a)')\r\n",
        "#Cálculos circuito equivalente primário (Curto-Circuito)\r\n",
        "print('#Lado primário (Curto-Circuito)')\r\n",
        "Z1 = v2**2/s #Parte absoluta\r\n",
        "Req = Z1*0.01\r\n",
        "Xeq = Z1*0.05\r\n",
        "\r\n",
        "print(f'Z1 = {Z1} ohms')\r\n",
        "print(f'''Req = {Req} ohms\r\n",
        "Xeq = {Xeq} ohms\\n''') \r\n",
        "\r\n",
        "#Cálculos circuito equivalente secundário (Vazio)\r\n",
        "print('#Lado secundário (Vazio)')\r\n",
        "Yex2 = I2/v2 #Parte absoluta\r\n",
        "angulo2 = acos(pot2/(v2*I2))\r\n",
        "Yex2 = complex(Yex2*cos(angulo2), -Yex2*sin(angulo2))\r\n",
        "Rc2 = 1/Yex2.real \r\n",
        "X2 = 1/-Yex2.imag\r\n",
        "\r\n",
        "print(f'Yex2 = {Yex2} ohms')\r\n",
        "print(f'''RC = {Rc2} ohms\r\n",
        "XM = {X2} ohms\\n''') \r\n",
        "\r\n",
        "print('b)')\r\n",
        "Is = 4000000/(v2*FP)\r\n",
        "Is = complex(Is, -acos(0.8))\r\n",
        "VA = v2 + Is*complex(0.38, 1.9)\r\n",
        "RT = (abs(VA) - v2)/v2\r\n",
        "print(f'RT = {RT*100}%\\n')"
      ],
      "execution_count": null,
      "outputs": [
        {
          "output_type": "stream",
          "text": [
            "a)\n",
            "#Lado primário (Curto-Circuito)\n",
            "Z1 = 38.088 ohms\n",
            "Req = 0.38088 ohms\n",
            "Xeq = 1.9044 ohms\n",
            "\n",
            "#Lado secundário (Vazio)\n",
            "Yex2 = (0.0004767905902121404-0.0014527447864145374j) ohms\n",
            "RC = 2097.3568281938324 ohms\n",
            "XM = 688.3521519757513 ohms\n",
            "\n",
            "b)\n",
            "RT = 1.129570103794638%\n",
            "\n"
          ],
          "name": "stdout"
        }
      ]
    },
    {
      "cell_type": "markdown",
      "metadata": {
        "id": "YM6cFL67W7OI"
      },
      "source": [
        "**Questão 13** "
      ]
    },
    {
      "cell_type": "code",
      "metadata": {
        "id": "CKUwiM-bW7hM",
        "colab": {
          "base_uri": "https://localhost:8080/"
        },
        "outputId": "479656b9-7aad-441d-f03e-6a47688441aa"
      },
      "source": [
        "from math import acos\r\n",
        "from numpy import angle, degrees\r\n",
        "\r\n",
        "#Dados da questão\r\n",
        "a = 4\r\n",
        "Rp = 4 #ohms\r\n",
        "Xp = 8#ohms\r\n",
        "Rs = 1 #ohms\r\n",
        "Xs = 2 #ohms\r\n",
        "Rc = 20 #ohms\r\n",
        "\r\n",
        "#Cálculos\r\n",
        "print('\\na)')\r\n",
        "Req = Rp + Rs*(a**2)\r\n",
        "print(f'Req = {Req} ohms')\r\n",
        "\r\n",
        "print('\\nb)')\r\n",
        "Xeq = Xp + Xs*(a**2)\r\n",
        "print(f'Xeq = {Xeq} ohms')\r\n",
        "\r\n",
        "print('\\nc)')\r\n",
        "Reqp = Rc*(a**2)\r\n",
        "print(f'''O circuito equivalente refletido para o primário\r\n",
        "Reqp = {Reqp} ohms''')\r\n",
        "\r\n",
        "print('\\nd)')\r\n",
        "Vg = 50 #Volts\r\n",
        "Ip = Vg/complex(Req + Reqp, Xeq)\r\n",
        "print(f'''A corrente no primário para um Vg = 50V\r\n",
        "Ip = {Ip} A''')\r\n",
        "#print(abs(Ip))\r\n",
        "#print(degrees(angle(Ip)))\r\n",
        "\r\n",
        "print('\\ne)')\r\n",
        "Vc = a*Ip*Rc\r\n",
        "print(f'''A tensão na carga Vc para um Vg = 50V\r\n",
        "Vc = {Vc} V''')\r\n",
        "#print(abs(Vc))\r\n",
        "#print(degrees(angle(Vc)))\r\n",
        "\r\n",
        "\r\n",
        "\r\n"
      ],
      "execution_count": null,
      "outputs": [
        {
          "output_type": "stream",
          "text": [
            "\n",
            "a)\n",
            "Req = 20 ohms\n",
            "\n",
            "b)\n",
            "Xeq = 40 ohms\n",
            "\n",
            "c)\n",
            "O circuito equivalente refletido para o primário\n",
            "Reqp = 320 ohms\n",
            "\n",
            "d)\n",
            "A corrente no primário para um Vg = 50V\n",
            "Ip = (0.14505119453924917-0.017064846416382253j) A\n",
            "\n",
            "e)\n",
            "A tensão na carga Vc para um Vg = 50V\n",
            "Vc = (11.604095563139934-1.3651877133105803j) V\n"
          ],
          "name": "stdout"
        }
      ]
    },
    {
      "cell_type": "markdown",
      "metadata": {
        "id": "Znrx25-hW7oz"
      },
      "source": [
        "**Questão 14** "
      ]
    },
    {
      "cell_type": "code",
      "metadata": {
        "id": "WHs349RhW7x2",
        "colab": {
          "base_uri": "https://localhost:8080/"
        },
        "outputId": "9ba6c1b5-9ad7-4a0e-c4f1-69b8d13db0f5"
      },
      "source": [
        "from math import acos\r\n",
        "from numpy import angle, degrees, radians, rad2deg, pi\r\n",
        "\r\n",
        "#Dados da questão\r\n",
        "a = 4\r\n",
        "Rp = 4 #ohms\r\n",
        "Xp = 8 #ohms\r\n",
        "Rs = 1 #ohms\r\n",
        "Xs = 2 #ohms\r\n",
        "Rc = 20 #ohms\r\n",
        "\r\n",
        "#Cálculos\r\n",
        "print('\\na)')\r\n",
        "Req = Rp + Rs*(a**2)\r\n",
        "print(f'Req = {Req} ohms')\r\n",
        "Xeq = Xp + Xs*(a**2)\r\n",
        "print(f'Xeq = {Xeq} ohms')\r\n",
        "Zp = Req + complex(0, Xeq) + complex(0, 20)*(a**2)\r\n",
        "print(abs(Zp))\r\n",
        "print(degrees(angle(Zp)))\r\n",
        "\r\n",
        "print('\\nb)')\r\n",
        "Vg = 120 #Volts\r\n",
        "Ip = Vg/Zp\r\n",
        "print(f'''A corrente no primário para um Vg = 120V\r\n",
        "Ip = {Ip} A''')\r\n",
        "#print(abs(Ip))\r\n",
        "#print(degrees(angle(Ip)))\r\n",
        "\r\n",
        "print('\\nc)')\r\n",
        "\r\n",
        "Vreq= Ip * Rc\r\n",
        "print(f'''A tensão em Req:\r\n",
        "Vreq = {Vreq} V''')\r\n",
        "#print(abs(Vreq))\r\n",
        "#print(degrees(angle(Vreq))')\r\n",
        "\r\n",
        "Vxeq = Ip * complex(0, Xeq)\r\n",
        "print(f'''A tensão em Xeq:\r\n",
        "Vxeq = {Vxeq} V''')\r\n",
        "#print(abs(Vxeq))\r\n",
        "#print(degrees(angle(Vxeq)))\r\n",
        "\r\n",
        "Vxl = Ip*complex(0,20*(a**2))\r\n",
        "print(f'''A tensão em Xl:\r\n",
        "Vxl = {Vxl} V''')\r\n",
        "#print(abs(Vxl))\r\n",
        "#print(degrees(angle(Vxl)))"
      ],
      "execution_count": null,
      "outputs": [
        {
          "output_type": "stream",
          "text": [
            "\n",
            "a)\n",
            "Req = 20 ohms\n",
            "Xeq = 40 ohms\n",
            "360.5551275463989\n",
            "86.82016988013577\n",
            "\n",
            "b)\n",
            "A corrente no primário para um Vg = 120V\n",
            "Ip = (0.01846153846153846-0.3323076923076923j) A\n",
            "\n",
            "c)\n",
            "A tensão em Req:\n",
            "Vreq = (0.3692307692307692-6.646153846153846j) V\n",
            "A tensão em Xeq:\n",
            "Vxeq = (13.292307692307691+0.7384615384615384j) V\n",
            "A tensão em Xl:\n",
            "Vxl = (106.33846153846153+5.907692307692307j) V\n"
          ],
          "name": "stdout"
        }
      ]
    }
  ]
}