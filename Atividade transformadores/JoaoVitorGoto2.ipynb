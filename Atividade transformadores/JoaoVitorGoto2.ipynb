{
 "cells": [
  {
   "cell_type": "markdown",
   "metadata": {},
   "source": [
    "### 1- Uma fonte de impedância interna de 512 ohms alimenta um alto-falante com uma impedância de apenas 8 ohms. Nestas condições é de se esperar que a potência fornecida ao alto-falante seja muito pequena, diante a divisão de tensão entre as cargas. Desta maneira, calcule:"
   ]
  },
  {
   "cell_type": "markdown",
   "metadata": {},
   "source": [
    "##### a) Valor da potência fornecida a carga de acordo com a figura"
   ]
  },
  {
   "cell_type": "code",
   "execution_count": 1,
   "metadata": {},
   "outputs": [
    {
     "name": "stdout",
     "output_type": "stream",
     "text": [
      "I =  0.23077\n",
      "Pc =  0.42604\n"
     ]
    }
   ],
   "source": [
    "Rp = 512;\n",
    "Rc = 8;\n",
    "Vg = 120;\n",
    "Req = Rp+Rc;\n",
    "\n",
    "I = Vg/Req\n",
    "Pc = (I^2)*Rc"
   ]
  },
  {
   "cell_type": "markdown",
   "metadata": {},
   "source": [
    "##### b) Na figura (b) é possível observar a introdução de um transformador para casamento de impedâncias. Calcule a nova potência fornecida ao alto-falante."
   ]
  },
  {
   "cell_type": "code",
   "execution_count": 2,
   "metadata": {},
   "outputs": [
    {
     "name": "stdout",
     "output_type": "stream",
     "text": [
      "Is =  0.11719\n",
      "Pc_two =  7.0312\n"
     ]
    }
   ],
   "source": [
    "a = 8;\n",
    "Rc_two = (a^2)*(Rc);\n",
    "Req_two = Rp + Rc_two;\n",
    "Is = Vg/Req_two\n",
    "Pc_two = (Is^2)*Rc_two"
   ]
  },
  {
   "cell_type": "markdown",
   "metadata": {},
   "source": [
    "##### c) Compare as potencias antes e depois de se introduzir o transformador"
   ]
  },
  {
   "cell_type": "code",
   "execution_count": 3,
   "metadata": {},
   "outputs": [
    {
     "name": "stdout",
     "output_type": "stream",
     "text": [
      "ans =  16.504\n"
     ]
    }
   ],
   "source": [
    "Pc_two/Pc"
   ]
  },
  {
   "cell_type": "markdown",
   "metadata": {},
   "source": [
    "### 2- Calcule para o circuito abaixo:"
   ]
  },
  {
   "cell_type": "markdown",
   "metadata": {},
   "source": [
    "##### a) Se cada um dos alto-falantes do circuito pode receber apenas 10 W, qual o valor máximo de potência fornecida pela fonte, desprezando-se as perdas?"
   ]
  },
  {
   "cell_type": "code",
   "execution_count": 4,
   "metadata": {},
   "outputs": [
    {
     "name": "stdout",
     "output_type": "stream",
     "text": [
      "P_quatro_cargas =  40\n"
     ]
    }
   ],
   "source": [
    "Pc = 10;\n",
    "\n",
    "P_quatro_cargas = 4*Pc"
   ]
  },
  {
   "cell_type": "markdown",
   "metadata": {},
   "source": [
    "##### b) Se todos alto-falantes estão operando em 10 W, calcule a impedância de entrada dos transformadores"
   ]
  },
  {
   "cell_type": "code",
   "execution_count": 6,
   "metadata": {},
   "outputs": [
    {
     "name": "stdout",
     "output_type": "stream",
     "text": [
      "Ic =  0.14144\n",
      "Zp =  499.85\n"
     ]
    }
   ],
   "source": [
    "Vg = 70.7;\n",
    "Ic = Pc/Vg\n",
    "Zp = Vg/Ic"
   ]
  },
  {
   "cell_type": "markdown",
   "metadata": {},
   "source": [
    "##### c) Qual a relação de espiras?"
   ]
  },
  {
   "cell_type": "code",
   "execution_count": 7,
   "metadata": {},
   "outputs": [
    {
     "name": "stdout",
     "output_type": "stream",
     "text": [
      "a =  7.9045\n"
     ]
    }
   ],
   "source": [
    "Rc = 8;\n",
    "a = sqrt(Zp/Rc)"
   ]
  },
  {
   "cell_type": "markdown",
   "metadata": {},
   "source": [
    "##### d) Qual a tensao aplicada aos alto-falantes"
   ]
  },
  {
   "cell_type": "code",
   "execution_count": 8,
   "metadata": {},
   "outputs": [
    {
     "name": "stdout",
     "output_type": "stream",
     "text": [
      "Vc =  8.9443\n"
     ]
    }
   ],
   "source": [
    "Vc = Vg/a"
   ]
  },
  {
   "cell_type": "markdown",
   "metadata": {},
   "source": [
    "##### e) Qual é a carga, do ponto de vista da fonte, quando 1 alto-falante apenas está ligado? e com os 4?"
   ]
  },
  {
   "cell_type": "code",
   "execution_count": 9,
   "metadata": {},
   "outputs": [
    {
     "name": "stdout",
     "output_type": "stream",
     "text": [
      "ans =  124.96\n"
     ]
    }
   ],
   "source": [
    "% para um alto-falante ---> Zp = 499.85\n",
    "% para 4 alto falantes\n",
    "Zp/4"
   ]
  },
  {
   "cell_type": "markdown",
   "metadata": {},
   "source": [
    "### 3- Para o transformador a seguir, calcule:"
   ]
  },
  {
   "cell_type": "markdown",
   "metadata": {},
   "source": [
    "###### a) Corrente $I_{c}$ e a tensão $V_{c}$ se $a = \\dfrac{N_{p}}{N_{s}}=\\dfrac{1}{5}$, $I_{p} = 2 A$ e $Z_{c}$ é um resistor de 2 ohms."
   ]
  },
  {
   "cell_type": "code",
   "execution_count": 11,
   "metadata": {},
   "outputs": [
    {
     "name": "stdout",
     "output_type": "stream",
     "text": [
      "Ic =  0.40000\n",
      "Vc =  0.80000\n"
     ]
    }
   ],
   "source": [
    "Ip = 2;\n",
    "Np = 1;\n",
    "Ns = 5;\n",
    "a = Np/Ns;\n",
    "Zc = 2;\n",
    "Ic = Ip*a\n",
    "Vc = Ic*Zc"
   ]
  },
  {
   "cell_type": "markdown",
   "metadata": {},
   "source": [
    "##### b) Determine a resistencia de entrada para os dados especificados"
   ]
  },
  {
   "cell_type": "code",
   "execution_count": 12,
   "metadata": {},
   "outputs": [
    {
     "name": "stdout",
     "output_type": "stream",
     "text": [
      "Rp =  0.080000\n"
     ]
    }
   ],
   "source": [
    "Rp = (a^2)*Zc"
   ]
  },
  {
   "cell_type": "markdown",
   "metadata": {},
   "source": [
    "### 4-Um transformador de 10 kVA, 4800/240 V é ensaiado a vazio e a curto-circuito:\n",
    "\n",
    "#### Ensaio à Vazio (Lado de BT): 60 W; 240 V; 1,5 A\n",
    "\n",
    "#### Ensaio em Curto-Circuito (lado de AT): 180 W; 180 V; corrente nominal."
   ]
  },
  {
   "cell_type": "markdown",
   "metadata": {},
   "source": [
    "##### a) Determine o circuito equivalente referido para o primário e secundário"
   ]
  },
  {
   "cell_type": "code",
   "execution_count": 13,
   "metadata": {},
   "outputs": [
    {
     "name": "stdout",
     "output_type": "stream",
     "text": [
      "I_nom =  2.0833\n",
      "Rc =  960\n",
      "Ic =  0.25000\n",
      "Ic_res =  1.4790\n",
      "Xm =  162.27\n",
      "a =  20\n",
      "Rc_alta =  384000\n",
      "Xm_alta =  64907.84676\n",
      "Req_alta =  41.472\n",
      "Zeq_alta =  86.400\n",
      "Xeq_alta =  75.796\n",
      "Rc_baixa =  0.10368\n",
      "Xeq_baixa =  0.18949\n"
     ]
    }
   ],
   "source": [
    "%Dados: \n",
    "Pot_bt = 60;\n",
    "P_alta = 180;\n",
    "Vg = 240;\n",
    "Vg_two = 180;\n",
    "V_alta = 4800;\n",
    "P_apa = 10000;\n",
    "I_amp = 1.5;\n",
    "I_nom = P_apa/V_alta\n",
    "\n",
    "Rc = (Vg^2)/Pot_bt\n",
    "Ic = Vg/Rc\n",
    "Ic_res = sqrt((I_amp^2)-(Ic^2))\n",
    "Xm = Vg/Ic_res\n",
    "\n",
    "%\n",
    "a = V_alta/Vg\n",
    "Rc_alta = (a^2)*Rc\n",
    "Xm_alta = (a^2)*Xm\n",
    "%\n",
    "Req_alta = P_alta/(I_nom^2)\n",
    "Zeq_alta = Vg_two/I_nom\n",
    "Xeq_alta = sqrt((Zeq_alta^2)-(Req_alta^2))\n",
    "%\n",
    "Rc_baixa = Req_alta/(a^2)\n",
    "Xeq_baixa = Xeq_alta/(a^2)"
   ]
  },
  {
   "cell_type": "markdown",
   "metadata": {},
   "source": [
    "##### b) Determine a regulação de tensão do transformador à plena carga e fator de potência unitário."
   ]
  },
  {
   "cell_type": "code",
   "execution_count": 14,
   "metadata": {},
   "outputs": [
    {
     "name": "stdout",
     "output_type": "stream",
     "text": [
      "fp =  0.16667\n",
      "fp_cc =  0.48000\n"
     ]
    }
   ],
   "source": [
    "fp = Pot_bt/(Vg*I_amp)\n",
    "\n",
    "fp_cc = P_alta/(Vg_two*I_nom)\n"
   ]
  },
  {
   "cell_type": "markdown",
   "metadata": {},
   "source": [
    "### 5 Um transformador de 100 KVA, 60 Hz, 12000/240 V é ensaiado a vazio e a curto-circuito:\n",
    "\n",
    "#### Ensaio à Vazio: 480 W; 240 V; 8,75 A\n",
    "\n",
    "#### Ensaio de Curto-Circuito: 1200 W, 600 V, Corrente nominal\n",
    "\n",
    "#### Determine a regulação de tensão para carga nominal com Fator de Potência 0.8 em atraso."
   ]
  },
  {
   "cell_type": "code",
   "execution_count": 15,
   "metadata": {},
   "outputs": [
    {
     "name": "stdout",
     "output_type": "stream",
     "text": [
      "I_nom_cc =  8.3333\n",
      "acos_fp =  36.870\n",
      "angulo_imag =  53.130\n",
      "cos_angulo_imag =  0.60000\n",
      "sin_angulo_imag =  0.79900\n",
      "Req =  17.280\n",
      "Xeq =  69.896\n",
      "V_real =  144\n",
      "V_imag =  582.46\n",
      "V_real_um =  115.06\n",
      "V_real_imag_um = -86.400\n",
      "V_real_dois =  349.48\n",
      "V_real_imag_dois =  465.39\n",
      "V_t_real =  12464.53424\n",
      "V_t_imag =  378.99\n",
      "V_reg =  3.8711\n"
     ]
    }
   ],
   "source": [
    "P_apa = 100000;\n",
    "V_alta = 12000;\n",
    "I_nom_cc = P_apa/V_alta\n",
    "fp = 0.8;\n",
    "acos_fp = rad2deg(acos(fp))\n",
    "angulo_imag = 90 - acos_fp\n",
    "cos_real = 0.799;\n",
    "sin_imag = -0.60;\n",
    "cos_angulo_imag = 0.6\n",
    "sin_angulo_imag = 0.799\n",
    "\n",
    "\n",
    "Vc = 600;\n",
    "P_alta = 1200;\n",
    "Req = P_alta/(I_nom_cc^2)\n",
    "ZeqH = Vc/I_nom_cc;\n",
    "Xeq = sqrt((ZeqH^2)-(Req^2))\n",
    "\n",
    "%Vh = V_alta + I*ZeqH\n",
    "V_real = I_nom_cc*Req\n",
    "V_imag = I_nom_cc*Xeq\n",
    "V_real_um = V_real*cos_real\n",
    "V_real_imag_um = V_real*sin_imag\n",
    "V_real_dois = V_imag*cos_angulo_imag\n",
    "V_real_imag_dois = V_imag*sin_angulo_imag\n",
    "V_t_real = V_alta + V_real_um + V_real_dois\n",
    "V_t_imag =  V_real_imag_um + V_real_imag_dois\n",
    "V_reg = ((V_t_real - V_alta)*100)/V_alta"
   ]
  },
  {
   "cell_type": "markdown",
   "metadata": {},
   "source": [
    "### 6 Um transformador de de 25 KVA, 2400/240 V consome 254 W , com FP = 0.15, quando 240 V são aplicados no lado de baixa tensão, com o lado de alta tensão em aberto. Calcule a corrente que é fornecida pela linha quando 2400 V forem aplicados do lado de alta tensão, com o lado da baixa tensão em aberto."
   ]
  },
  {
   "cell_type": "code",
   "execution_count": 16,
   "metadata": {},
   "outputs": [
    {
     "name": "stdout",
     "output_type": "stream",
     "text": [
      "I_alta =  10.417\n",
      "I_bt =  7.0556\n",
      "Rcl =  226.77\n",
      "Icl =  1.0583\n",
      "Iml =  6.9757\n"
     ]
    }
   ],
   "source": [
    "P_apa = 25000;\n",
    "V_alta = 2400;\n",
    "I_alta = P_apa/V_alta\n",
    "I_bt = 254/(240*0.15)\n",
    "Rcl = (240^2)/254\n",
    "Icl = 240/Rcl\n",
    "Iml = sqrt((I_bt^2)-(Icl^2))"
   ]
  },
  {
   "cell_type": "markdown",
   "metadata": {},
   "source": [
    "### 7 Um transformador monofásico 250 KVA, 24200/220 V fora ensaiado apresentando os seguintes dados:\n",
    "\n",
    "#### Ensaio a vazio (BT): 1200W, Tensão nominal, 16 A\n",
    "\n",
    "#### Ensaio de curto-circuito (AT): 1700 W, 600 V, Corrente nominal\n",
    "\n",
    "#### Determine o circuito equivalente e a regulação de tensão do transformador quando ele opera com uma carga 85% da nominal e fator de potência de 0.92 indutivo."
   ]
  },
  {
   "cell_type": "code",
   "execution_count": 17,
   "metadata": {},
   "outputs": [
    {
     "name": "stdout",
     "output_type": "stream",
     "text": [
      "I_nom_cc =  10.331\n",
      "acos_fp =  23.074\n",
      "angulo_imag =  66.926\n",
      "cos_angulo_imag =  0.39000\n",
      "Req =  15.929\n",
      "ZeqH =  58.080\n",
      "Xeq =  55.853\n",
      "V_real =  139.88\n",
      "V_imag =  490.44\n",
      "V_real_um =  128.69\n",
      "V_imag_um = -54.552\n",
      "V_real_dois =  191.27\n",
      "V_t_real =  24519.95884\n",
      "V_reg =  1.3221\n"
     ]
    }
   ],
   "source": [
    "P_apa = 250000;\n",
    "V_alta = 24200;\n",
    "I_nom_cc = P_apa/V_alta\n",
    "fp = 0.92;\n",
    "acos_fp = rad2deg(acos(fp))\n",
    "angulo_imag = 90 - acos_fp\n",
    "sin_imag = -0.39;\n",
    "cos_angulo_imag = 0.39\n",
    "\n",
    "Vcc = 600;\n",
    "P_cc = 1700;\n",
    "Req = P_cc/(I_nom_cc^2)\n",
    "ZeqH = Vcc/I_nom_cc\n",
    "Xeq = sqrt((ZeqH^2)-(Req^2))\n",
    "\n",
    "%Vh = V_alta + I*ZeqH\n",
    "Il = 0.85*I_nom_cc;\n",
    "V_real = Il*Req\n",
    "V_imag = Il*Xeq\n",
    "V_real_um = V_real*fp\n",
    "V_imag_um = V_real*sin_imag\n",
    "V_real_dois = V_imag*cos_angulo_imag\n",
    "V_t_real = V_alta + V_real_um + V_real_dois\n",
    "V_reg = ((V_t_real - V_alta)*100)/V_alta"
   ]
  },
  {
   "cell_type": "markdown",
   "metadata": {},
   "source": [
    "### 8 Um transformador de distribuição de 100 kVA, 8000/277 V tem as seguintes resistências e reatâncias:"
   ]
  },
  {
   "cell_type": "markdown",
   "metadata": {},
   "source": [
    "##### a) Encontre o circuito equivalente do equipamento referente ao lado de baixa."
   ]
  },
  {
   "cell_type": "code",
   "execution_count": 19,
   "metadata": {},
   "outputs": [
    {
     "name": "stdout",
     "output_type": "stream",
     "text": [
      "R_s =  4.1705\n",
      "X_s =  5.0046\n"
     ]
    }
   ],
   "source": [
    "Rp = 5;\n",
    "Xp = 6;\n",
    "Rc = 50000;\n",
    "Rs = 0.005;\n",
    "Xs = 0.006;\n",
    "a = 8000/277;\n",
    "I_nom = 100000/8000;\n",
    "R_s = (a^2)*Rs \n",
    "X_s = (a^2)*Xs"
   ]
  },
  {
   "cell_type": "markdown",
   "metadata": {},
   "source": [
    "##### b) Encontre o circuito equivalente por unidade desse transformador"
   ]
  },
  {
   "cell_type": "code",
   "execution_count": 20,
   "metadata": {},
   "outputs": [
    {
     "name": "stdout",
     "output_type": "stream",
     "text": [
      "Z =  640\n"
     ]
    }
   ],
   "source": [
    "Z = 8000/I_nom"
   ]
  },
  {
   "cell_type": "markdown",
   "metadata": {},
   "source": [
    "##### c) Assuma que o transformador alimente uma carga nominal em 277 V e FP 0,85 atrasado. Qual é sua tensão de entrada? Qual é sua regulação de tensão?"
   ]
  },
  {
   "cell_type": "code",
   "execution_count": 21,
   "metadata": {},
   "outputs": [
    {
     "name": "stdout",
     "output_type": "stream",
     "text": [
      "Is =  361.01\n",
      "I_s =  12.500\n",
      "Req =  9.1705\n",
      "Xeq =  11.005\n",
      "V_r =  97.437\n",
      "V_i =  72.355\n",
      "V_t =  8169.8\n",
      "V_r =  2.1224\n"
     ]
    }
   ],
   "source": [
    "Is = 100000/277\n",
    "I_s = Is/a\n",
    "Req = R_s + Rp\n",
    "Xeq = X_s + Xp\n",
    "V_r = I_s*Req*0.85\n",
    "V_i = I_s*Xeq*0.526\n",
    "V_t = 8000 + V_r + V_i\n",
    "V_r = ((V_t -8000)*100)/8000"
   ]
  },
  {
   "cell_type": "markdown",
   "metadata": {},
   "source": [
    "##### d) Quais são as perdas no cobre e no núcleo desse transformador nas condições do item (c)"
   ]
  },
  {
   "cell_type": "code",
   "execution_count": 22,
   "metadata": {},
   "outputs": [
    {
     "name": "stdout",
     "output_type": "stream",
     "text": [
      "P_saida =  85000\n",
      "Pcobre =  1432.9\n",
      "Pco =  1334.9\n"
     ]
    }
   ],
   "source": [
    "P_saida = 100000*0.85\n",
    "Pcobre = (I_s^2)*Req \n",
    "Pco = (V_t^2)/Rc"
   ]
  },
  {
   "cell_type": "markdown",
   "metadata": {},
   "source": [
    "##### e) Determine a eficiência do transformador nas mesmas condições"
   ]
  },
  {
   "cell_type": "code",
   "execution_count": 23,
   "metadata": {},
   "outputs": [
    {
     "name": "stdout",
     "output_type": "stream",
     "text": [
      "n =  96.846\n"
     ]
    }
   ],
   "source": [
    "n = (P_saida*100)/(P_saida + Pcobre + Pco)"
   ]
  },
  {
   "cell_type": "markdown",
   "metadata": {},
   "source": [
    "### 9 O enrolamento secundário de um transformador real tem uma tensão de terminal de $v_{s}(t) = 282,8 sen (377t)$ V. A relação de espiras do transformador é 100:200 ($a = 0,50$). Se a corrente do secundário no transformador for $i_{s}(t) = 7,07 sen (377t = 36,87°)$ A, qual será a corrente do primário desse transformador? Quais são sua regulação de tensão e sua eficiência? As impedâncias do transformador, referidas ao lado do primário, são"
   ]
  },
  {
   "cell_type": "code",
   "execution_count": 24,
   "metadata": {},
   "outputs": [
    {
     "name": "stdout",
     "output_type": "stream",
     "text": [
      "a =  0.50000\n",
      "Vs =  200.04\n",
      "Is =  4.9992\n",
      "V_s =  100.02\n",
      "I_s =  9.9985\n",
      "Req =  0.20000\n",
      "Xeq =  0.80000\n",
      "V_r =  1.5978\n",
      "V_i =  4.7993\n",
      "V_t =  106.40\n",
      "Ic =  0.35466\n",
      "Ic_r =  0.35111\n",
      "Ic_i =  0.016066\n",
      "Im =  1.0640\n",
      "Im_r =  0.048198\n",
      "Im_i = -1.0533\n",
      "I_ex =  1.1100\n",
      "Is_r =  7.8988\n",
      "Is_i = -5.9991\n",
      "I_ex_r =  0.39849\n",
      "I_ex_i = -1.0356\n",
      "Ip =  10.870\n",
      "Vr =  6.3755\n",
      "P_entrada =  844.27\n",
      "P_saida =  799.04\n",
      "n =  0.94643\n"
     ]
    }
   ],
   "source": [
    "a=0.5\n",
    "Vs = 282.9/(sqrt(2))\n",
    "Is = 7.07/(sqrt(2))\n",
    "V_s = 0.5*Vs\n",
    "I_s = Is/a\n",
    "Req = 0.2\n",
    "Xeq = 0.8\n",
    "V_r = I_s*Req*0.799\n",
    "V_i = I_s*Xeq*0.6\n",
    "V_t = 100 + V_r + V_i\n",
    "Ic = V_t/300\n",
    "Ic_r = (V_t/300)*0.99\n",
    "Ic_i = (V_t/300)*0.0453\n",
    "Im = V_t/100\n",
    "Im_r = (V_t/100)*0.0453\n",
    "Im_i = (V_t/100)*(-0.99)\n",
    "%convertendo para polar\n",
    "I_ex = 1.11 %angulo = -68.9\n",
    "\n",
    "Is_r = I_s*0.79\n",
    "Is_i = I_s*(-0.6)\n",
    "I_ex_r = I_ex*0.359\n",
    "I_ex_i = I_ex*(-0.933)\n",
    "Ip = 10.87 %angulo -40.29\n",
    "\n",
    "Vr = ((V_t - (a*Vs))/(a*Vs))*100\n",
    "P_entrada = V_t*Ip*0.73\n",
    "\n",
    "P_saida = Vs*Is*0.799\n",
    "\n",
    "n = P_saida/P_entrada"
   ]
  },
  {
   "cell_type": "markdown",
   "metadata": {},
   "source": [
    "### 10 Um transformador com especificações nominais de 1000 VA e 230/115 V foi submetido a ensaios para determinar seu circuito equivalente. Os resultados dos ensaios estão mostrados abaixo."
   ]
  },
  {
   "cell_type": "markdown",
   "metadata": {},
   "source": [
    "##### a)Encontre o circuito equivalente desse transformador, referido ao lado de baixa tensão do transformador."
   ]
  },
  {
   "cell_type": "code",
   "execution_count": 25,
   "metadata": {},
   "outputs": [
    {
     "name": "stdout",
     "output_type": "stream",
     "text": [
      "Y =  0.00095652\n",
      "fp =  0.30830\n",
      "acos =  72.040\n",
      "Gc =  0.00029490\n",
      "Bm = -0.00090870\n",
      "Rc =  3391.0\n",
      "Xm =  1100.5\n",
      "Zeq =  1.9655\n",
      "fp_cc =  0.25610\n",
      "acos_cc =  75.160\n",
      "Req_cc =  0.50337\n",
      "Xeq_cc =  1.8987\n",
      "Rc_s =  847.76\n",
      "Xm_s =  275.12\n",
      "Req_s =  0.12584\n",
      "Xeq_s =  0.47467\n"
     ]
    }
   ],
   "source": [
    "Y = 0.11/115\n",
    "fp = 3.9/(115*0.11)\n",
    "acos = 72.04\n",
    "Gc = Y*fp\n",
    "Bm = Y*(-0.95)\n",
    "Rc = 1/Gc\n",
    "Xm = -(1/Bm)\n",
    "\n",
    "Zeq = 17.1/8.7\n",
    "fp_cc = 38.1/(17.1*8.7)\n",
    "acos_cc = 75.16\n",
    "Req_cc = Zeq*fp_cc\n",
    "Xeq_cc = Zeq*0.966\n",
    "\n",
    "Rc_s = Rc/4\n",
    "Xm_s = Xm/4\n",
    "Req_s = Req_cc/4\n",
    "Xeq_s = Xeq_cc/4"
   ]
  },
  {
   "cell_type": "markdown",
   "metadata": {},
   "source": [
    "##### b) Encontre a regulação de tensão do transformador, em condições nominais com (1) FP 0,8 atrasado, (2) FP 1,0 e (3) FP 0,8 adiantado."
   ]
  },
  {
   "cell_type": "code",
   "execution_count": 26,
   "metadata": {},
   "outputs": [
    {
     "name": "stdout",
     "output_type": "stream",
     "text": [
      "Is =  8.6957\n",
      "V_r =  0.87433\n",
      "V_i =  2.4766\n",
      "V_t =  118.35\n",
      "V_r =  2.9138\n",
      "V_total =  116.09\n",
      "V_reg =  0.95155\n",
      "V_total_ad =  115.44\n",
      "V_r_a =  0.38022\n"
     ]
    }
   ],
   "source": [
    "Is = 1000/115\n",
    "V_r = Is*Req_s*0.799\n",
    "V_i = Is*Xeq_s*0.6\n",
    "V_t = 115 + V_r + V_i\n",
    "V_r = ((V_t - 115)/115)*100\n",
    "\n",
    "%unitario\n",
    "V_total = 115 + Is*Req_s\n",
    "V_reg = ((V_total-115)/115)*100\n",
    "\n",
    "%adiantado\n",
    "V_total_ad = 115 + V_r - V_i\n",
    "V_r_a = ((V_total_ad - 115)/115)*100"
   ]
  },
  {
   "cell_type": "markdown",
   "metadata": {},
   "source": [
    "##### c) Determine a eficiência do transformador, em condições nominais com FP 0,8 atrasado"
   ]
  },
  {
   "cell_type": "code",
   "execution_count": 27,
   "metadata": {},
   "outputs": [
    {
     "name": "stdout",
     "output_type": "stream",
     "text": [
      "P_saida =  800\n",
      "Pcu =  9.5155\n",
      "Pcore =  16.522\n",
      "n =  96.848\n"
     ]
    }
   ],
   "source": [
    "P_saida = 115*Is*0.8\n",
    "Pcu = (Is^2)*Req_s\n",
    "Pcore = (V_t^2)/Rc_s\n",
    "n = (P_saida*100)/(P_saida + Pcu + Pcore)"
   ]
  },
  {
   "cell_type": "markdown",
   "metadata": {},
   "source": [
    "### 11 Um transformador de distribuição de 30 kVA e 8000/230 V tem uma impedância referida ao primário de $20+j100$ ohms. As componentes do ramo de excitação, referidas ao lado primário, são $R_{C} = 100 k$ ohms e $X_{M} = 20 k$ ohms."
   ]
  },
  {
   "cell_type": "markdown",
   "metadata": {},
   "source": [
    "##### a) Se a tensão do primário for 7967V e impedância de carga for $Z_{L} = 2+j0,7$ ohms, qual será a tensão do secundário do transformador? Qual é a relação de tensão do transformador?"
   ]
  },
  {
   "cell_type": "code",
   "execution_count": 28,
   "metadata": {},
   "outputs": [
    {
     "name": "stdout",
     "output_type": "stream",
     "text": [
      "a =  34.783\n",
      "Z_l_r =  2419.7\n",
      "Z_l_i =  846.88\n",
      "Z_p_r =  20\n",
      "Z_p_i =  100\n",
      "Z_r =  2439.7\n",
      "Z_i =  946.88\n",
      "Z_t =  2617.0\n",
      "I_s =  3.0444\n",
      "V_s_r =  6865.4\n",
      "V_s_i =  930.73\n",
      "V_s_t =  6928.2\n",
      "Vs =  199.19\n",
      "V_r =  14.994\n"
     ]
    }
   ],
   "source": [
    "a = 8000/230\n",
    "Z_l_r = (a^2)*2\n",
    "Z_l_i = (a^2)*0.7\n",
    "Z_p_r = 20\n",
    "Z_p_i = 100\n",
    "Z_r = Z_l_r + Z_p_r\n",
    "Z_i = Z_l_i + Z_p_i\n",
    "Z_t = sqrt((Z_r^2)+(Z_i^2)) %angulo 21.21\n",
    "I_s = 7967/Z_t\n",
    "V_s_r = Z_l_r*I_s*0.932\n",
    "V_s_i = Z_l_i*I_s*0.361\n",
    "V_s_t = sqrt((V_s_r^2)+(V_s_i^2)) %angulo 7.72\n",
    "Vs = V_s_t/a\n",
    "V_r = ((7967 -V_s_t)*100)/V_s_t"
   ]
  },
  {
   "cell_type": "markdown",
   "metadata": {},
   "source": [
    "##### b) Se a carga for desconectada e um capacitor de $-j3,0$ ohms for ligado em seu lugar, qual será a tensão no secundário do transformador? Qual é a regulação de tensão nessas condições?"
   ]
  },
  {
   "cell_type": "code",
   "execution_count": 29,
   "metadata": {},
   "outputs": [
    {
     "name": "stdout",
     "output_type": "stream",
     "text": [
      "Z_ = -3629.5\n",
      "Zi = -3529.5\n",
      "Zt =  3529.5\n",
      "I =  2.2572\n",
      "V =  8110.7\n",
      "V_s =  233.18\n",
      "V_reg = -1.7714\n"
     ]
    }
   ],
   "source": [
    "Z_ = (a^2)*(-3)\n",
    "Zi = Z_p_i + Z_\n",
    "Zt = sqrt((Z_p_r^2)+(Zi^2)) %angulo -89.67\n",
    "I = 7967/Zt\n",
    "V = I*(-Z_)*0.99\n",
    "V_s = V/a\n",
    "V_reg = ((7967-V)*100)/V"
   ]
  },
  {
   "cell_type": "markdown",
   "metadata": {},
   "source": [
    "### 12 Um transformador monofásico de potência de 5000 kVA e 230/13,8 kV tem uma resistência por unidade de 1% e uma reatância por unidade de 5% (dados tomados da placa do transformador). O ensaio a vazio foi realizado no lado de baixa tensão do transformador, produzindo os seguintes dados: $V_{vz} = 13,8 kV$ ; $I_{vz} = 21,1 A$ ; $P_{vz} = 9,8 kW$"
   ]
  },
  {
   "cell_type": "markdown",
   "metadata": {},
   "source": [
    "##### a) Encontre o circuito equivalente, referido ao lado de baixa tensão do transformador."
   ]
  },
  {
   "cell_type": "code",
   "execution_count": 30,
   "metadata": {},
   "outputs": [
    {
     "name": "stdout",
     "output_type": "stream",
     "text": [
      "Y =  0.0015290\n",
      "fp =  0.033656\n",
      "acos_fp =  88.070\n",
      "Gc =  0.000051460\n",
      "Bm = -0.0015137\n",
      "Rc =  19432.65306\n",
      "Xm =  660.63\n",
      "Zbase =  0.038088\n",
      "Req_s =  0.00038088\n",
      "Xeq_s =  0.0019044\n"
     ]
    }
   ],
   "source": [
    "Y = 21.1/13800\n",
    "fp = 9800/(13800*21.1)\n",
    "acos_fp = 88.07\n",
    "Gc = Y*fp\n",
    "Bm = Y*(-0.99)\n",
    "Rc = 1/Gc\n",
    "Xm = -(1/Bm)\n",
    "Zbase = (13.8^2)/5000\n",
    "Req_s = 0.01*Zbase\n",
    "Xeq_s = 0.05*Zbase"
   ]
  },
  {
   "cell_type": "markdown",
   "metadata": {},
   "source": [
    "##### b) Se a tensão no lado do secundário for 13,8 kV e a potência fornecida for 4000 kW com FP 0,8 atrasado, encontre a regulação de tensão do transformador. Qual é sua eficiência?"
   ]
  },
  {
   "cell_type": "code",
   "execution_count": 32,
   "metadata": {},
   "outputs": [
    {
     "name": "stdout",
     "output_type": "stream",
     "text": [
      "Is =  362.32\n",
      "V_r =  0.11040\n",
      "V_i =  0.41400\n",
      "Vt =  13800.52440\n",
      "V_reg =  0.0038000\n",
      "Pcu =  50\n",
      "Pcore =  9800.7\n",
      "n =  28.879\n"
     ]
    }
   ],
   "source": [
    "Is = 4000/(13.8*0.8)\n",
    "V_r = Is*Req_s*0.8\n",
    "V_i = Is*Xeq_s*0.6\n",
    "Vt = 13800 + V_r + V_i\n",
    "V_reg = ((Vt-13800)*100)/13800\n",
    "\n",
    "Pcu = (Is^2)*Req_s\n",
    "Pcore = (Vt^2)/Rc\n",
    "n = (4000/(4000+Pcu+Pcore))*100"
   ]
  },
  {
   "cell_type": "markdown",
   "metadata": {},
   "source": [
    "### 13 Para o transformador da figura a seguir, determine:"
   ]
  },
  {
   "cell_type": "markdown",
   "metadata": {},
   "source": [
    "##### a) $R_{eq}$"
   ]
  },
  {
   "cell_type": "code",
   "execution_count": 33,
   "metadata": {},
   "outputs": [
    {
     "name": "stdout",
     "output_type": "stream",
     "text": [
      "Req =  20\n"
     ]
    }
   ],
   "source": [
    "Rp = 4; % Ohm\n",
    "Rs = 1; % Ohm\n",
    "Xp = 8; % Ohm\n",
    "Xs = 2; % Ohm\n",
    "Rc = 20; % Ohm\n",
    "Vg = 120; % A\n",
    "a=4; % adimensional\n",
    "\n",
    "\n",
    "Req = Rp + (a^2)*(Rs)"
   ]
  },
  {
   "cell_type": "markdown",
   "metadata": {},
   "source": [
    "##### b) $X_{eq}$"
   ]
  },
  {
   "cell_type": "code",
   "execution_count": 34,
   "metadata": {},
   "outputs": [
    {
     "name": "stdout",
     "output_type": "stream",
     "text": [
      "Xeq =  40\n"
     ]
    }
   ],
   "source": [
    "Xeq = Xp + (a^2)*Xs"
   ]
  },
  {
   "cell_type": "markdown",
   "metadata": {},
   "source": [
    "##### c) O circuito equivalente refletido para o primário"
   ]
  },
  {
   "cell_type": "code",
   "execution_count": 35,
   "metadata": {},
   "outputs": [
    {
     "name": "stdout",
     "output_type": "stream",
     "text": [
      "cp =  320\n"
     ]
    }
   ],
   "source": [
    "cp = (a^2)*Rc"
   ]
  },
  {
   "cell_type": "markdown",
   "metadata": {},
   "source": [
    "##### d) A corrente no primário para um Vg = 50 V"
   ]
  },
  {
   "cell_type": "code",
   "execution_count": 36,
   "metadata": {},
   "outputs": [
    {
     "name": "stdout",
     "output_type": "stream",
     "text": [
      "Zp =  342.34\n",
      "Ip =  0.35052\n"
     ]
    }
   ],
   "source": [
    "Zp = sqrt(((cp+Req)^2)+(Xeq^2))\n",
    "Ip = Vg/Zp"
   ]
  },
  {
   "cell_type": "markdown",
   "metadata": {},
   "source": [
    "##### e) a tensão na carga Vc"
   ]
  },
  {
   "cell_type": "code",
   "execution_count": 37,
   "metadata": {},
   "outputs": [
    {
     "name": "stdout",
     "output_type": "stream",
     "text": [
      "Vc =  28.042\n"
     ]
    }
   ],
   "source": [
    "Vc = a*Ip*Rc"
   ]
  },
  {
   "cell_type": "markdown",
   "metadata": {},
   "source": [
    "### 14 Supondo que a carga resistiva seja substituída por uma reatância indutiva de 20 ohms, calcule"
   ]
  },
  {
   "cell_type": "markdown",
   "metadata": {},
   "source": [
    "##### a) A impedância total refletida do primário"
   ]
  },
  {
   "cell_type": "code",
   "execution_count": 38,
   "metadata": {},
   "outputs": [
    {
     "name": "stdout",
     "output_type": "stream",
     "text": [
      "Req =  20\n",
      "Xeq =  40\n",
      "X_i =  360\n",
      "Zp =  360.56\n"
     ]
    }
   ],
   "source": [
    "Rp = 4; % Ohm\n",
    "Rs = 1; % Ohm\n",
    "Xp = 8; % Ohm\n",
    "Xs = 2; % Ohm\n",
    "Rc = 20; % Ohm\n",
    "Vg = 120; % A\n",
    "a=4; % adimensional\n",
    "\n",
    "\n",
    "Req = Rp + (a^2)*(Rs)\n",
    "Xeq = Xp + (a^2)*Xs\n",
    "X_i = Xeq + ((a^2)*Req)\n",
    "Zp = sqrt((Req^2)+(X_i^2))"
   ]
  },
  {
   "cell_type": "markdown",
   "metadata": {},
   "source": [
    "##### b) corrente no primario"
   ]
  },
  {
   "cell_type": "code",
   "execution_count": 39,
   "metadata": {},
   "outputs": [
    {
     "name": "stdout",
     "output_type": "stream",
     "text": [
      "Ip =  0.33282\n"
     ]
    }
   ],
   "source": [
    "Ip = Vg/Zp"
   ]
  },
  {
   "cell_type": "markdown",
   "metadata": {},
   "source": [
    "##### c) tensoes em Req, Xeq e na carga refletida"
   ]
  },
  {
   "cell_type": "code",
   "execution_count": 40,
   "metadata": {},
   "outputs": [
    {
     "name": "stdout",
     "output_type": "stream",
     "text": [
      "Vre =  6.6564\n",
      "Vxe =  13.313\n",
      "Vcx =  106.50\n"
     ]
    }
   ],
   "source": [
    "Vre = Ip*Req\n",
    "Vxe = Ip*Xeq\n",
    "Vcx = Ip*((a^2)*Req)"
   ]
  },
  {
   "cell_type": "code",
   "execution_count": null,
   "metadata": {},
   "outputs": [],
   "source": []
  }
 ],
 "metadata": {
  "kernelspec": {
   "display_name": "Octave",
   "language": "octave",
   "name": "octave"
  },
  "language_info": {
   "file_extension": ".m",
   "help_links": [
    {
     "text": "GNU Octave",
     "url": "https://www.gnu.org/software/octave/support.html"
    },
    {
     "text": "Octave Kernel",
     "url": "https://github.com/Calysto/octave_kernel"
    },
    {
     "text": "MetaKernel Magics",
     "url": "https://metakernel.readthedocs.io/en/latest/source/README.html"
    }
   ],
   "mimetype": "text/x-octave",
   "name": "octave",
   "version": "5.2.0"
  }
 },
 "nbformat": 4,
 "nbformat_minor": 4
}
