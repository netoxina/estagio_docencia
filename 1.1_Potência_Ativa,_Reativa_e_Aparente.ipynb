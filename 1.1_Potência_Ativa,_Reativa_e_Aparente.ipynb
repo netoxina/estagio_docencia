{
 "cells": [
  {
   "cell_type": "markdown",
   "metadata": {},
   "source": [
    "# 1.9 POTÊNCIAS ATIVA, REATIVA E APARENTE EM CIRCUITOS CA MONOFÁSICOS\n",
    "Leia pág. 47 do Chapman 5a Edição"
   ]
  },
  {
   "cell_type": "markdown",
   "metadata": {},
   "source": [
    "Conforme visto em aula, existe uma potência dita ativa que \"realiza trabalho\" e uma potência reativa que \"em média\" não realiza trabalho. Na prática o que existe é a potência instantânea, em alguns momentos a energia é armazenada e em outro pode vir a ser descarregada no sistema. \n",
    "\n",
    "Para exemplificar vamos definir uma impedância composta por uma resistência e uma capacitância:"
   ]
  },
  {
   "cell_type": "code",
   "execution_count": 34,
   "metadata": {},
   "outputs": [
    {
     "name": "stdout",
     "output_type": "stream",
     "text": [
      "R =  120\n",
      "C =  0.00025000\n",
      "f =  60\n",
      "Xc =  10.610\n",
      "Z =  120.000 -  10.610i\n"
     ]
    }
   ],
   "source": [
    "R = 120 % Ohm\n",
    "C = 250E-6 %F\n",
    "f = 60 % Hz\n",
    "Xc = 1/(2*pi*f*C) % Ohm\n",
    "Z = 120 - Xc*i\n"
   ]
  },
  {
   "cell_type": "markdown",
   "metadata": {},
   "source": [
    "Alimentando essa impedância com uma fonte alternada:"
   ]
  },
  {
   "cell_type": "code",
   "execution_count": 26,
   "metadata": {},
   "outputs": [
    {
     "name": "stdout",
     "output_type": "stream",
     "text": [
      "V =  120\n",
      "I =  0.61849 + 0.48576i\n"
     ]
    }
   ],
   "source": [
    "V = 120 % V\n",
    "I = V / Z % A"
   ]
  },
  {
   "cell_type": "markdown",
   "metadata": {},
   "source": [
    "Sabemos que potência é o produto interno entre a tensão e a corrente:"
   ]
  },
  {
   "cell_type": "code",
   "execution_count": 29,
   "metadata": {},
   "outputs": [
    {
     "name": "stdout",
     "output_type": "stream",
     "text": [
      "P =  74.218 + 58.291i\n",
      "S =  94.373\n",
      "Q =  58.291\n"
     ]
    }
   ],
   "source": [
    "P = V * I % W\n",
    "S = abs(P) % VA\n",
    "Q = imag(P) % VAr"
   ]
  },
  {
   "cell_type": "markdown",
   "metadata": {},
   "source": [
    "## Tarefa 1 - Potências"
   ]
  },
  {
   "cell_type": "markdown",
   "metadata": {},
   "source": [
    "Qual o valor da potência ativa, reativa e aparente? \n",
    "Plote o resultado no tempo, como mostrado na Fig. 1-30, pag. 49."
   ]
  },
  {
   "cell_type": "markdown",
   "metadata": {},
   "source": [
    "Para exemplificar, pode-se plotar o vetor Potência:"
   ]
  },
  {
   "cell_type": "code",
   "execution_count": 28,
   "metadata": {},
   "outputs": [
    {
     "data": {
      "image/png": "[encoded data removed]",
      "text/plain": [
       "<IPython.core.display.Image object>"
      ]
     },
     "metadata": {},
     "output_type": "display_data"
    }
   ],
   "source": [
    "plot([0 P])"
   ]
  },
  {
   "cell_type": "markdown",
   "metadata": {},
   "source": [
    "## Relações entre ângulo de impedância, ângulo de corrente e potência"
   ]
  },
  {
   "cell_type": "markdown",
   "metadata": {},
   "source": [
    "Uma carga capacitiva tem um ângulo de impedância negativo. Essa carga produz uma corrente adiantada e consome uma potência ativa P da fonte e ao mesmo tempo fornece uma potência reativa Q para a fonte."
   ]
  },
  {
   "cell_type": "code",
   "execution_count": 32,
   "metadata": {},
   "outputs": [
    {
     "name": "stdout",
     "output_type": "stream",
     "text": [
      "ans = -38.146\n"
     ]
    }
   ],
   "source": [
    "angle(Z)*180/pi"
   ]
  },
  {
   "cell_type": "markdown",
   "metadata": {},
   "source": [
    "Plotando o vetor da Corrente, observa-se que está adiantado:"
   ]
  },
  {
   "cell_type": "code",
   "execution_count": 27,
   "metadata": {},
   "outputs": [
    {
     "data": {
      "image/png": "[encoded data removed]",
      "text/plain": [
       "<IPython.core.display.Image object>"
      ]
     },
     "metadata": {},
     "output_type": "display_data"
    }
   ],
   "source": [
    "plot([0 I])"
   ]
  },
  {
   "cell_type": "markdown",
   "metadata": {},
   "source": [
    "## Tarefa 2 - Refazer os cálculos e plotar o vetor de corrente para um indutor\n",
    "Observe que o calculo da reatância indutiva muda."
   ]
  },
  {
   "cell_type": "markdown",
   "metadata": {},
   "source": [
    "## Tarefa 3 - Plote também os vetores de Corrente e Tensão\n",
    "Agora implemente usando uma função que tenha como entrada o fator de potência e o valor da potência ativa e a tensão. "
   ]
  },
  {
   "cell_type": "code",
   "execution_count": null,
   "metadata": {},
   "outputs": [],
   "source": []
  }
 ],
 "metadata": {
  "kernelspec": {
   "display_name": "Octave",
   "language": "octave",
   "name": "octave"
  },
  "language_info": {
   "file_extension": ".m",
   "help_links": [
    {
     "text": "GNU Octave",
     "url": "https://www.gnu.org/software/octave/support.html"
    },
    {
     "text": "Octave Kernel",
     "url": "https://github.com/Calysto/octave_kernel"
    },
    {
     "text": "MetaKernel Magics",
     "url": "https://metakernel.readthedocs.io/en/latest/source/README.html"
    }
   ],
   "mimetype": "text/x-octave",
   "name": "octave",
   "version": "5.2.0"
  }
 },
 "nbformat": 4,
 "nbformat_minor": 4
}
